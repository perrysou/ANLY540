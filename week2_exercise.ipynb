{
 "cells": [
  {
   "cell_type": "code",
   "execution_count": 1,
   "metadata": {},
   "outputs": [],
   "source": [
    "import re\n",
    "from nltk import word_tokenize, sent_tokenize, ngrams\n",
    "from collections import Counter"
   ]
  },
  {
   "cell_type": "code",
   "execution_count": 2,
   "metadata": {},
   "outputs": [],
   "source": [
    "text =\"\"\"More than US$20 billion in venture capital is being invested in FinTech this year. \\\n",
    "@CloudExpo is pleased to bring you the latest FinTech developments as an integral part of our \\\n",
    "program, starting at the 21st International \\\n",
    "Cloud Expo October 31 - November 2, 2017 in Silicon Valley, and June 12-14, 2018, in New York City. \\\n",
    "The upcoming 21st International @CloudExpo | @ThingsExpo, October 31 - November 2, 2017, \\\n",
    "Santa Clara Convention Center, CA, and June 12-14, 2018, at the Javits Center in New York City, \\\n",
    "NY announces that its Call For Papers for speaking opportunities is open.\"\"\""
   ]
  },
  {
   "cell_type": "code",
   "execution_count": 3,
   "metadata": {},
   "outputs": [
    {
     "name": "stdout",
     "output_type": "stream",
     "text": [
      "['More than US$20 billion in venture capital is being invested in FinTech this year.', '@CloudExpo is pleased to bring you the latest FinTech developments as an integral part of our program, starting at the 21st International Cloud Expo October 31 - November 2, 2017 in Silicon Valley, and June 12-14, 2018, in New York City.', 'The upcoming 21st International @CloudExpo | @ThingsExpo, October 31 - November 2, 2017, Santa Clara Convention Center, CA, and June 12-14, 2018, at the Javits Center in New York City, NY announces that its Call For Papers for speaking opportunities is open.']\n"
     ]
    }
   ],
   "source": [
    "# tokenize sentences\n",
    "sentences = sent_tokenize(text)\n",
    "print(sentences)\n",
    "#for sentence in sentences:\n",
    "#    print(sentence)"
   ]
  },
  {
   "cell_type": "code",
   "execution_count": 8,
   "metadata": {},
   "outputs": [
    {
     "name": "stdout",
     "output_type": "stream",
     "text": [
      "['More', 'than', 'US', '$', '20', 'billion', 'in', 'venture', 'capital', 'is', 'being', 'invested', 'in', 'FinTech', 'this', 'year', '.']\n",
      "Trigrams: \n"
     ]
    }
   ],
   "source": [
    "tokens = word_tokenize(sentences[0])\n",
    "print(tokens)\n",
    "#print(\"Trigrams: \")\n",
    "#for item in ngrams(tokens,3):\n",
    "#    print(item)\n",
    "#print(Counter(ngrams(tokens,3)))"
   ]
  },
  {
   "cell_type": "code",
   "execution_count": 23,
   "metadata": {},
   "outputs": [
    {
     "name": "stdout",
     "output_type": "stream",
     "text": [
      "More than US20 billion in venture capital is being invested in FinTech this year. CloudExpo is pleased to bring you the latest FinTech developments as an integral part of our program, starting at the 21st International Cloud Expo October 31  November 2, 2017 in Silicon Valley, and June 1214, 2018, in New York City. The upcoming 21st International CloudExpo  ThingsExpo, October 31  November 2, 2017, Santa Clara Convention Center, CA, and June 1214, 2018, at the Javits Center in New York City, NY announces that its Call For Papers for speaking opportunities is open.\n"
     ]
    }
   ],
   "source": [
    "# manually define a pattern to substitute all non-alphanumeric characters\n",
    "#print(re.sub(r'[^a-zA-Z0-9., ]', '', text))\n",
    "# or compile a pattern into object and then use it to substitute\n",
    "pattern = re.compile(r'[^a-zA-Z0-9., ]')\n",
    "print(re.sub(pattern,'', text))"
   ]
  },
  {
   "cell_type": "code",
   "execution_count": 29,
   "metadata": {},
   "outputs": [
    {
     "name": "stdout",
     "output_type": "stream",
     "text": [
      "More than US$## billion in venture capital is being invested in FinTech this year. @CloudExpo is pleased to bring you the latest FinTech developments as an integral part of our program, starting at the ##st International Cloud Expo October ## - November #, #### in Silicon Valley, and June ##-##, ####, in New York City. The upcoming ##st International @CloudExpo | @ThingsExpo, October ## - November #, ####, Santa Clara Convention Center, CA, and June ##-##, ####, at the Javits Center in New York City, NY announces that its Call For Papers for speaking opportunities is open.\n"
     ]
    }
   ],
   "source": [
    "#substitute all numbers with #\n",
    "print(re.sub(r'[0-9]','#',text))"
   ]
  },
  {
   "cell_type": "code",
   "execution_count": 9,
   "metadata": {},
   "outputs": [
    {
     "name": "stdout",
     "output_type": "stream",
     "text": [
      "<_sre.SRE_Match object; span=(12, 16), match='$20 '>\n"
     ]
    }
   ],
   "source": [
    "# search for pattern\n",
    "print(re.search('\\$(.+?) ',text))"
   ]
  },
  {
   "cell_type": "code",
   "execution_count": 33,
   "metadata": {},
   "outputs": [
    {
     "name": "stdout",
     "output_type": "stream",
     "text": [
      "Donald\n",
      "Trump\n"
     ]
    }
   ],
   "source": [
    "# Matching and grouping substring patterns\n",
    "m = re.match(r\"(?P<first_name>\\w+) (?P<last_name>\\w+)\", \"Donald Trump\")\n",
    "print(m.group('first_name'))\n",
    "print(m.group('last_name'))"
   ]
  },
  {
   "cell_type": "code",
   "execution_count": null,
   "metadata": {},
   "outputs": [],
   "source": []
  }
 ],
 "metadata": {
  "kernelspec": {
   "display_name": "Python 3",
   "language": "python",
   "name": "python3"
  },
  "language_info": {
   "codemirror_mode": {
    "name": "ipython",
    "version": 3
   },
   "file_extension": ".py",
   "mimetype": "text/x-python",
   "name": "python",
   "nbconvert_exporter": "python",
   "pygments_lexer": "ipython3",
   "version": "3.6.5"
  }
 },
 "nbformat": 4,
 "nbformat_minor": 2
}
