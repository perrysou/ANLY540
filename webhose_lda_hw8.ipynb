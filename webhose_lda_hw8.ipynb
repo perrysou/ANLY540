{
 "cells": [
  {
   "cell_type": "code",
   "execution_count": 1,
   "metadata": {},
   "outputs": [],
   "source": [
    "import webhoseio, os\n",
    "from sklearn.feature_extraction.text import CountVectorizer\n",
    "from sklearn.decomposition import LatentDirichletAllocation\n",
    "import nltk, re\n",
    "from nltk.stem.wordnet import WordNetLemmatizer\n",
    "\n",
    "stopwords = set(nltk.corpus.stopwords.words('english'))\n",
    "\n",
    "webhoseio.config(token=os.environ['WEBHOSE_TOKEN'])\n",
    "query_params = {\n",
    "    \"q\": \"organization:Tesla\",\n",
    "    \"ts\": \"1523748602856\",\n",
    "    \"sort\": \"crawled\"\n",
    "}"
   ]
  },
  {
   "cell_type": "code",
   "execution_count": 2,
   "metadata": {},
   "outputs": [],
   "source": [
    "# be careful how many times you make this call\n",
    "# get the first batch\n",
    "output = webhoseio.query(\"filterWebContent\", query_params)"
   ]
  },
  {
   "cell_type": "code",
   "execution_count": 3,
   "metadata": {},
   "outputs": [
    {
     "name": "stdout",
     "output_type": "stream",
     "text": [
      "GM CEO Mary Barra Slips To Second Place On Most Powerful Women List|||2018-09-25T15:57:00.000+03:00\n",
      "TeslaCoilCoin Price Up 25.8% Over Last 7 Days (CRYPTO:TESLA)|||2018-09-26T06:46:00.000+03:00\n",
      "Tesla shares fall after CEO Musk abuses British diver|||2018-09-26T12:33:00.000+03:00\n",
      "Tesla shares fall after CEO Musk abuses British diver|||2018-09-26T12:36:00.000+03:00\n",
      "Tesla shares fall after CEO Musk abuses British diver|||2018-09-26T12:37:00.000+03:00\n",
      "Tesla: Tesla building own car carriers to boost deliveries: Musk, Auto News, ET Auto|||2018-09-26T03:00:00.000+03:00\n",
      "Reviewing VOLKSWAGEN (VLKAY) and Tesla (TSLA)|||2018-09-26T10:08:00.000+03:00\n",
      "Tesla ex-HR Chief suggested promoting employees to prevent unionization|||2018-09-26T13:48:00.000+03:00\n",
      "CEO tweeting: lessons from Elon Musk|||2018-09-26T15:19:00.000+03:00\n",
      "Tesla offers incentives, taps volunteers in end-of-quarter rush|||2018-09-26T03:00:00.000+03:00\n",
      "Skeptic Says Tesla Will Likey Hit Q3 Delivery Guidance|||2018-09-26T16:35:00.000+03:00\n",
      "Tesla shares gain for a third straight session on Tuesday, auto maker now building car carriers of its own|||2018-09-26T03:00:00.000+03:00\n",
      "Google Alert - Tesla|||2018-09-26T16:07:00.000+03:00\n",
      "Elon Musk said Tesla's 'breakthrough' Autopilot update could arrive for more owners at the end of this week (TSLA)|||2018-09-26T17:08:00.000+03:00\n",
      "Elon Musk said Tesla's 'breakthrough' Autopilot update could arrive for more owners at the end of this week (TSLA)|||2018-09-26T17:08:00.000+03:00\n",
      "Tesla to build trucks to deliver its own cars|||2018-09-26T16:15:00.000+03:00\n",
      "Tesla's former head of HR told Elon Musk that the company should promote workers who want to unionize so they could 'turn adversaries into those responsible for the problem': Report (TSLA)|||2018-09-26T23:39:00.000+03:00\n",
      "Musk Says Reach Out To Tesla For Model 3 Delivery By End Of Week|||2018-09-26T18:59:00.000+03:00\n",
      "- TESLA - Skulls!!|||2018-09-26T17:49:00.000+03:00\n",
      "California considers almost doubling its EV incentive as Tesla’s federal tax credit is phasing out | Electrek|||2018-09-26T03:00:00.000+03:00\n",
      "Two Tesla bulls say the company is wrong about one key part of its self-driving car strategy (TSLA)|||2018-09-26T20:00:00.000+03:00\n",
      "An Ex-Tesla executive said she used to check Twitter to ensure Elon Musk wasn't tweeting 'dumb stuff': Report (TSLA)|||2018-09-27T01:38:00.000+03:00\n",
      "Tesla wrong about self-driving strategy, needs lidar: Experts|||2018-09-26T21:00:00.000+03:00\n",
      "#Consumer #Guides, Brand New Order Page Maximum Try Us|||2018-09-26T21:38:00.000+03:00\n",
      "'Papa John' Schnatter denies contacting equity firms about bid to buy back company|||2018-09-26T21:50:00.000+03:00\n",
      "Tesla Competitor Lucid Motors Receives $1 billion Investment from Saudi Arabia|||2018-09-26T23:30:00.000+03:00\n",
      "Tesla Competitor Lucid Motors Receives $1 billion Investment from Saudi Arabia|||2018-09-26T23:30:00.000+03:00\n",
      "Tesla Competitor Lucid Motors Receives $1 billion Investment from Saudi Arabia|||2018-09-26T23:30:00.000+03:00\n",
      "Watch a Tesla drive in Paris through the eyes of Autopilot|||2018-09-25T19:34:00.000+03:00\n",
      "Tesla shares fall after CEO Musk abuses British diver|||2018-09-26T12:42:00.000+03:00\n",
      "The Fund That Still Believes in Tesla and Elon Musk|||2018-09-27T01:28:00.000+03:00\n",
      "Panasonic completing 3 new cell production lines at Tesla's Gigafactory|||2018-09-27T01:20:00.000+03:00\n",
      "UNSW Powers up on Renewables with New Battery|||2018-09-26T21:40:00.000+03:00\n",
      "Panasonic completing 3 new cell production lines at Tesla’s Gigafactory|||2018-09-27T01:20:00.000+03:00\n",
      "How a Tesla computer “sees” the streets of Paris|||2018-09-26T19:32:00.000+03:00\n",
      "Tesla CEO Elon Musk and the company’s head of human resource|||2018-09-26T19:05:00.000+03:00\n",
      "[Medgadget] Simulator Evaluates Effect of High-Field MRI on Breast Tissues|||2018-09-27T03:00:00.000+03:00\n",
      "How a Tesla “sees” the streets of Paris|||2018-09-26T20:10:00.000+03:00\n",
      "Tesla in DESPERATE attempt to boost sales with customer freebies after value PLUNGED|||2018-09-27T07:17:00.000+03:00\n",
      "Will Elon Musk cave?|||2018-09-26T16:40:00.000+03:00\n",
      "Why Some Tesla Owners Are Volunteering to Work for Elon Musk|||2018-09-27T02:16:00.000+03:00\n",
      "Jeremy Corbyn mocked for rail nationalisation calls as he forgets ONE simple point – Today Latest News|||2018-09-27T03:00:00.000+03:00\n",
      "Tesla shares fall 5 percent on Wall St. skepticism, SEC probe reports|||2018-09-27T14:16:00.000+03:00\n",
      "The Fund That Still Believes in Tesla and Elon Musk|||2018-09-27T01:28:00.000+03:00\n",
      "Report: Elon Musk, Tesla Exec Discussed Promoting Union Advocates Rather Than 'Work To Pull In The UAW' | Gizmodo Australia|||2018-09-27T03:00:00.000+03:00\n",
      "Tesla (TSLA) PT Set at $291.00 by Morgan Stanley|||2018-09-27T17:20:00.000+03:00\n",
      "Tesla (TSLA) Given a $179.00 Price Target at Morningstar|||2018-09-27T23:08:00.000+03:00\n",
      "Tesla (TSLA) Given a $179.00 Price Target at Morningstar|||2018-09-27T18:08:00.000+03:00\n",
      "Brand New 75 Stocks Investing Big Money, #Business #Investing|||2018-09-27T18:40:00.000+03:00\n",
      "Another senior Tesla employee appears to have left the company (TSLA)|||2018-09-28T03:09:00.000+03:00\n",
      "BREAKING: SEC Lists Tesla CEO Elon Musk As Defendant In Lawsuit|||2018-09-27T23:27:00.000+03:00\n",
      "ALERT: Tesla CEO Elon Musk sued by SEC over securities fraud allegations|||2018-09-27T23:28:00.000+03:00\n",
      "ALERT: Tesla CEO Elon Musk sued by SEC over securities fraud allegations|||2018-09-27T23:28:00.000+03:00\n",
      "SEC files complaint against Tesla CEO Elon Musk alleging he made false statements about taking the company private|||2018-09-27T23:20:00.000+03:00\n",
      "Another senior Tesla employee appears to have left the company (TSLA)|||2018-09-27T22:09:00.000+03:00\n",
      "Tesla shares fall more than 10% after SEC fraud charges against Elon Musk|||2018-09-27T23:33:00.000+03:00\n",
      "US regulator alleges Elon Musk Tesla fraud|||2018-09-27T23:34:00.000+03:00\n",
      "Report: SEC files complaint against Tesla CEO Musk|||2018-09-27T16:33:00.000+03:00\n",
      "Elon Musk sued by SEC over Tesla take-private claims|||2018-09-27T03:00:00.000+03:00\n",
      "SEC opens case against Tesla founder Elon Musk|||2018-09-28T04:24:00.000+03:00\n",
      "SEC sues Tesla's Elon Musk, alleging he lied to investors|||2018-09-27T23:40:00.000+03:00\n",
      "SEC Charges Tesla CEO Elon Musk With Fraud|||2018-09-27T23:38:00.000+03:00\n",
      "SEC charges Tesla CEO Elon Musk with fraud|||2018-09-27T23:27:00.000+03:00\n",
      "SEC sues Elon Musk for ‘misleading’ tweets, seeks to bar Tesla CEO from running public company - MarketWatch|||2018-09-27T03:00:00.000+03:00\n",
      "SEC sues Elon Musk for ‘misleading’ tweets, seeks to bar Tesla CEO from running public company - MarketWatch|||2018-09-27T03:00:00.000+03:00\n",
      "Elon Musk reportedly sued by SEC|||2018-09-27T03:00:00.000+03:00\n",
      "Tesla CEO Musk accused of making false statements|||2018-09-27T23:39:00.000+03:00\n",
      "Elon Musk sued by US securities regulator over Tesla shares tweet|||2018-09-28T05:23:00.000+03:00\n",
      "SEC files complaint against Tesla's Elon Musk|||2018-09-27T03:00:00.000+03:00\n",
      "SEC Sues Musk for Securities Fraud|||2018-09-28T00:03:00.000+03:00\n",
      "SEC files complaint against Tesla CEO Elon Musk over alleged misleading statements|||2018-09-27T23:58:00.000+03:00\n",
      "SEC alleges Tesla’s Elon Musk lied to investors and seeks his removal as CEO -- The Washington Post|||2018-09-28T00:14:00.000+03:00\n",
      "SEC Sues Tesla and CEO Elon Musk|||2018-09-27T23:52:00.000+03:00\n",
      "Ex-SEC Chair Pitt: Elon Musk could be removed as CEO, face jail time|||2018-09-28T00:51:00.000+03:00\n",
      "SEC files lawsuit against Tesla CEO Elon Musk|||2018-09-28T00:06:00.000+03:00\n",
      "SEC sues Tesla's Elon Musk, alleging he lied to investors|||2018-09-28T01:06:00.000+03:00\n",
      "SEC files complaint against Tesla's Elon Musk|||2018-09-27T23:37:00.000+03:00\n",
      "SEC files complaint against Tesla&apos;s Elon Musk|||2018-09-27T23:37:00.000+03:00\n",
      "The SEC alleges that Elon Musks' $420 price point was a weed reference to amuse his girlfriend (TSLA)|||2018-09-28T00:12:00.000+03:00\n",
      "SEC sues Tesla’s Elon Musk, alleging he lied to investors|||2018-09-27T23:43:00.000+03:00\n",
      "SEC files complaint against Tesla’s Elon Musk|||2018-09-27T23:43:00.000+03:00\n",
      "SEC sues Elon Musk for fraud and seeks to bar him from leading a company|||2018-09-28T00:05:00.000+03:00\n",
      "SEC Sues Tesla CEO Elon Musk|||2018-09-28T00:01:00.000+03:00\n",
      "SEC files complaint against Tesla's Elon Musk|||2018-09-28T05:19:00.000+03:00\n",
      "SEC charges Tesla founder Elon Musk with false statements about taking the company private|||2018-09-28T00:19:00.000+03:00\n",
      "Munster: Musk's fraud charge could spark positive change at Tesla|||2018-09-27T03:00:00.000+03:00\n",
      "SEC files complaint against Tesla's Elon Musk|||2018-09-28T00:06:00.000+03:00\n",
      "SEC charges Elon Musk with fraud|||2018-09-28T00:31:00.000+03:00\n",
      "Tesla shares fall nearly 10% after SEC fraud charges against Elon Musk|||2018-09-28T00:30:00.000+03:00\n",
      "Elon Musk can blame 4 tweets for his SEC lawsuit (TSLA)|||2018-09-28T05:31:00.000+03:00\n",
      "The SEC alleges that Elon Musks' $420 price point was a weed reference to amuse his girlfriend|||2018-09-28T05:00:00.000+03:00\n",
      "SEC sues Elon Musk for misleading investors, sending Tesla shares plummeting|||2018-09-28T00:30:00.000+03:00\n",
      "SEC Sues Tesla CEO Elon Musk|||2018-09-28T00:23:00.000+03:00\n",
      "Tesla’s Elon Musk sued by SEC – Las Vegas Review-Journal|||2018-09-28T04:49:00.000+03:00\n",
      "SEC sues Tesla’s Elon Musk, alleging he lied to investors|||2018-09-27T21:32:00.000+03:00\n",
      "SEC holds news conference after filing lawsuit against Tesla CEO Elon Musk|||2018-09-28T00:36:00.000+03:00\n",
      "SEC files lawsuit against Tesla CEO Elon Musk|||2018-09-28T00:06:00.000+03:00\n",
      "News Highlights : Top Company News of the Day|||2018-09-27T03:00:00.000+03:00\n",
      "The SEC alleges that Elon Musks' $420 price point was a weed reference to amuse his girlfriend (TSLA)|||2018-09-28T00:12:00.000+03:00\n",
      "The SEC is suing Elon Musk for misleading Tesla investors with a tweet|||2018-09-28T00:06:00.000+03:00\n"
     ]
    }
   ],
   "source": [
    "for feed in output['posts']:\n",
    "    print(str(feed['title']) + '|||' + str(feed['published']))"
   ]
  },
  {
   "cell_type": "code",
   "execution_count": 4,
   "metadata": {},
   "outputs": [
    {
     "name": "stdout",
     "output_type": "stream",
     "text": [
      "Total number of titles: 100\n"
     ]
    }
   ],
   "source": [
    "feed_titles = []\n",
    "\n",
    "for feed in output['posts']:\n",
    "    feed_titles.append(str(feed['title']))\n",
    "\n",
    "print(\"Total number of titles: \" + str(len(feed_titles)))"
   ]
  },
  {
   "cell_type": "code",
   "execution_count": 7,
   "metadata": {},
   "outputs": [],
   "source": [
    "def tokenize_titles(title):\n",
    "    tokens = nltk.word_tokenize(title)\n",
    "    lmtzr = WordNetLemmatizer()\n",
    "    filtered_tokens = []\n",
    "    \n",
    "    for token in tokens:\n",
    "        token = token.replace(\"'s\", \" \").replace(\"n’t\", \" not\").replace(\"’ve\", \" have\")\n",
    "        token = re.sub(r'[^a-zA-Z0-9 ]', '', token)\n",
    "        if token not in stopwords:\n",
    "            filtered_tokens.append(token.lower())\n",
    "    \n",
    "    lemmas = [lmtzr.lemmatize(t,'v') for t in filtered_tokens]\n",
    "\n",
    "    return lemmas"
   ]
  },
  {
   "cell_type": "code",
   "execution_count": 23,
   "metadata": {},
   "outputs": [],
   "source": [
    "def clstr_lda(num_topics, titles):\n",
    "    # top words to be identified\n",
    "    n_top_words = 10\n",
    "\n",
    "    tf_vectorizer = CountVectorizer(max_df=0.96, min_df=0.02, max_features=1000,\n",
    "                                    tokenizer=tokenize_titles, ngram_range=(3,4))\n",
    "\n",
    "    tf = tf_vectorizer.fit_transform(titles)\n",
    "\n",
    "    lda = LatentDirichletAllocation(n_components=num_topics, max_iter=1000,\n",
    "                                    learning_method='batch', learning_offset=10.,\n",
    "                                    random_state = 1)\n",
    "    lda.fit(tf)\n",
    "    tf_feature_names = tf_vectorizer.get_feature_names()\n",
    "\n",
    "    # print top topic words\n",
    "    topics = dict()\n",
    "    for topic_idx, topic in enumerate(lda.components_):\n",
    "        topics[topic_idx] = [tf_feature_names[i] for i in topic.argsort()[:-n_top_words - 1:-1]]\n",
    "        print(\"Topic #%d:\" % topic_idx)\n",
    "        print(\" | \".join([tf_feature_names[i] for i in topic.argsort()[:-n_top_words - 1:-1]]))\n",
    "        \n",
    "    return topics"
   ]
  },
  {
   "cell_type": "code",
   "execution_count": 24,
   "metadata": {},
   "outputs": [
    {
     "name": "stdout",
     "output_type": "stream",
     "text": [
      "Topic #0:\n",
      "tesla share fall | ceo musk abuse british | abuse british diver | musk abuse british diver | musk abuse british | fall ceo musk abuse | fall ceo musk | share fall ceo musk | ceo musk abuse | tesla share fall ceo\n",
      "Topic #1:\n",
      "ceo elon musk | tesla ceo elon musk | tesla ceo elon | elon musk sue | elon musk sue sec | musk sue sec | lawsuit tesla ceo elon | lawsuit tesla ceo | file lawsuit tesla ceo | file lawsuit tesla\n",
      "Topic #2:\n",
      "sue elon musk | sec sue elon musk | sec sue elon | sue elon musk mislead | elon musk mislead | sec file complaint | file complaint tesla | sec file complaint tesla | charge elon musk | file complaint tesla ceo\n",
      "Topic #3:\n",
      "sec file complaint | sec file complaint tesla | file complaint tesla | tesla   elon |   elon musk | tesla   elon musk | complaint tesla   | complaint tesla   elon | file complaint tesla   | billion investment saudi arabia\n",
      "Topic #4:\n",
      " tsla  | tesla  tsla  | tesla  tsla | musk say tesla | tesla   breakthrough  | tesla   breakthrough |  autopilot update could |  autopilot update | arrive owners end | arrive owners end week\n",
      "Topic #5:\n",
      "sec sue tesla | ceo elon musk | tesla ceo elon | tesla ceo elon musk | sue tesla ceo | sue tesla ceo elon | sec sue tesla ceo | 3 new cell production | complete 3 new | cell production line\n",
      "Topic #6:\n",
      "elon musk  | teslas elon musk | musk  allege lie |  allege lie investors | elon musk  allege |  allege lie | musk  allege | allege lie investors |  tsla  | company  tsla \n"
     ]
    }
   ],
   "source": [
    "topics = clstr_lda(7, feed_titles)"
   ]
  },
  {
   "cell_type": "code",
   "execution_count": null,
   "metadata": {},
   "outputs": [],
   "source": [
    "#output = webhoseio.get_next()"
   ]
  },
  {
   "cell_type": "code",
   "execution_count": null,
   "metadata": {},
   "outputs": [],
   "source": []
  }
 ],
 "metadata": {
  "kernelspec": {
   "display_name": "Python 3",
   "language": "python",
   "name": "python3"
  },
  "language_info": {
   "codemirror_mode": {
    "name": "ipython",
    "version": 3
   },
   "file_extension": ".py",
   "mimetype": "text/x-python",
   "name": "python",
   "nbconvert_exporter": "python",
   "pygments_lexer": "ipython3",
   "version": "3.6.4"
  }
 },
 "nbformat": 4,
 "nbformat_minor": 2
}
