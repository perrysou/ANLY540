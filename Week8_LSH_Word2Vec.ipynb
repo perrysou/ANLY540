{
 "cells": [
  {
   "cell_type": "code",
   "execution_count": 1,
   "metadata": {},
   "outputs": [],
   "source": [
    "import webhoseio, os\n",
    "from gensim.models import KeyedVectors\n",
    "import json\n",
    "from simhash import Simhash, SimhashIndex\n",
    "import numpy as np"
   ]
  },
  {
   "cell_type": "code",
   "execution_count": 2,
   "metadata": {},
   "outputs": [],
   "source": [
    "webhoseio.config(token=os.environ['WEBHOSE_TOKEN'])\n",
    "query_params = {\n",
    "    \"q\": \"organization:Tesla\",\n",
    "    \"ts\": \"1523748602856\",\n",
    "    \"sort\": \"crawled\"\n",
    "}"
   ]
  },
  {
   "cell_type": "markdown",
   "metadata": {},
   "source": [
    "### Load Word Vector Model"
   ]
  },
  {
   "cell_type": "code",
   "execution_count": 3,
   "metadata": {},
   "outputs": [
    {
     "name": "stdout",
     "output_type": "stream",
     "text": [
      "Loading Word2Vec Google News model...\n",
      "Finished loading Word2Vec Google News model...\n"
     ]
    }
   ],
   "source": [
    "model_path = '/Users/javidbeck/projects/data/model/'\n",
    "def load_wordvec_model(modelName, modelFile, flagBin):\n",
    "    print('Loading ' + modelName + ' model...')\n",
    "    model = KeyedVectors.load_word2vec_format(model_path + modelFile, binary=flagBin)\n",
    "    print('Finished loading ' + modelName + ' model...')\n",
    "    return model\n",
    "\n",
    "model_w2v_AP    = load_wordvec_model('Word2Vec Google News', 'GoogleNews-vectors-negative300.bin', True)\n",
    "#model_fasttext = load_wordvec_model('FastText', 'fastText_wiki_en.vec', False)"
   ]
  },
  {
   "cell_type": "code",
   "execution_count": 4,
   "metadata": {},
   "outputs": [],
   "source": [
    "# function checks whether the input words are present in the vocabulary for the model\n",
    "def vocab_check(vectors, words):\n",
    "    \n",
    "    output = list()\n",
    "    for word in words:\n",
    "        if word in vectors.vocab:\n",
    "            output.append(word.strip())\n",
    "            \n",
    "    return output"
   ]
  },
  {
   "cell_type": "code",
   "execution_count": 5,
   "metadata": {},
   "outputs": [],
   "source": [
    "# function calculates similarity between two strings using a particular word vector model\n",
    "def calc_similarity(input1, input2, vectors):\n",
    "    s1words = set(vocab_check(vectors, input1.split()))\n",
    "    s2words = set(vocab_check(vectors, input2.split()))\n",
    "    \n",
    "    output = vectors.n_similarity(s1words, s2words)\n",
    "    return output"
   ]
  },
  {
   "cell_type": "code",
   "execution_count": 6,
   "metadata": {},
   "outputs": [],
   "source": [
    "def cleanup(input):\n",
    "    # remove English stopwords\n",
    "    input = input.replace(\"'s\", \" \").replace(\"n’t\", \" not\").replace(\"’ve\", \" have\")\n",
    "    input = re.sub(r'[^a-zA-Z0-9 ]', '', input)\n",
    "    return input"
   ]
  },
  {
   "cell_type": "markdown",
   "metadata": {},
   "source": [
    "### Query Webhose for a set of 100 posts/feeds (be careful how many times you make this call)"
   ]
  },
  {
   "cell_type": "code",
   "execution_count": 7,
   "metadata": {},
   "outputs": [],
   "source": [
    "# be careful how many times you make this call\n",
    "# get the first batch\n",
    "output = webhoseio.query(\"filterWebContent\", query_params)"
   ]
  },
  {
   "cell_type": "markdown",
   "metadata": {},
   "source": [
    "### Print original dataset titles only"
   ]
  },
  {
   "cell_type": "code",
   "execution_count": 23,
   "metadata": {},
   "outputs": [
    {
     "name": "stdout",
     "output_type": "stream",
     "text": [
      "0 Why Tesla, Apogee Enterprises, and General Mills Slumped Today\n",
      "1 Both sides are smoking dope\n",
      "2 Tesla shares fall after report of criminal investigation\n",
      "3 Tesla faces Justice Department criminal investigation over Elon Musk's tweets | kiiitv.com\n",
      "4 Tesla under investigation by Justice Department over CEO Elon Musk's comments about taking company private\n",
      "5 Audi unveils the eTron with an eye on Tesla- The New Indian Express\n",
      "6 Tesla shares fall after report of criminal investigation\n",
      "7 Tesla confirms criminal probe into Musk talk of going private\n",
      "8 Tesla shares fall after report of criminal investigation\n",
      "9 The DOJ's inquiry into Tesla has 'raised the temperature' on the company, an SEC lawyer says (TSLA)\n",
      "10 Elon Musk brother Kimbal Musk delivers Tesla Model 3\n",
      "11 British cave diver sues Elon Musk over 'pedo' comments\n",
      "12 Tesla shares fall after report of criminal investigation | KRXI\n",
      "13 Tesla Faces Justice Department Investigation Over Musk's Tweets\n",
      "14 Saudi Arabia invests $1B to build electric car in U.S.\n",
      "15 Tesla shares fall after report of criminal investigation\n",
      "16 Tesla confirms criminal probe into Musk talk of going private\n",
      "17 Tesla shares fall after report of criminal investigation\n",
      "18 NYT: SEC subpoenas Goldman, Silver Lake in Tesla probe - Tesla, Inc. (NASDAQ:TSLA)\n",
      "19 Elon Musk brother Kimbal Musk delivers Tesla Model 3\n",
      "20 Tesla to be investigated by US Justice Department over Elon Musk tweets | The Independent\n",
      "21 Elon Musk brother Kimbal Musk delivers Tesla Model 3\n",
      "22 British caver sues Elon Musk over ‘pedo’ comments,\n",
      "23 Tesla Stock Is Sinking as Elon Musk’s Tweet Is Now Under Criminal Investigation\n",
      "24 10 things you need to know this morning in Australia\n",
      "25 The Electric Audi is Here\n",
      "26 Tesla stock tumbles on report of criminal probe of Musk claims\n",
      "27 Tesla is facing a criminal investigation by the U.S. Justice\n",
      "28 Tesla facing criminal probe over Musk promise of secure funding for privatization\n",
      "29 Tesla : Saudis clinch $1-billion deal with Lucid Motors as Tesla faces criminal probe\n",
      "30 Moonstruck Japan tycoon to blast off on 1st SpaceX trip\n",
      "31 SpaceX's 1st traveler is moonstruck Japanese fashion tycoon\n",
      "32 SpaceX's 1st traveler is moonstruck Japanese fashion tycoon\n",
      "33 SpaceX's 1st traveler is moonstruck Japanese fashion tycoon\n",
      "34 SpaceX's 1st traveler is moonstruck Japanese fashion tycoon\n",
      "35 Tesla to be investigated by US Justice Department over Elon Musk tweets\n",
      "36 A DOJ Probe Into Elon's Tweets Could Spell Yet More Trouble for Tesla\n",
      "37 Tesla says it has turned over documents to feds | KNSS 98.7/1330\n",
      "38 Tesla Is Under Investigation By The Justice Department\n",
      "39 Tesla (TSLA) Debt Trading 1.1% Lower\n",
      "40 SpaceX's 1st traveler is moonstruck Japanese fashion tycoon\n",
      "41 Why Tesla, Apogee Enterprises, and General Mills Slumped Today\n",
      "42 Tesla shares fall after report of criminal investigation | vindy.com\n",
      "43 Tesla shares fall after report of criminal investigation\n",
      "44 Tesla Is Under Investigation By The Justice Department\n",
      "45 Tesla Is Under Investigation By The Justice Department\n",
      "46 Now Tesla could face criminal charges for Musk’s ‘taking Tesla private’ tweet\n",
      "47 Lucid Motors accepts $1 billion investment from Saudi Arabian fund\n",
      "48 Tesla Is Under Investigation By The Justice Department\n",
      "49 Tesla Is Under Investigation By The Justice Department\n",
      "50 SpaceX's 1st traveler is moonstruck Japanese fashion tycoon\n",
      "51 Tesla says it has turned over documents to feds | WWL\n",
      "52 Tesla Is Under Investigation By The Justice Department\n",
      "53 US investigates Tesla CEO Elon Musk’s statement on taking company private\n",
      "54 British cave diver sues Elon Musk over 'pedo' comments\n",
      "55 The Saudi wealth fund bought Tesla stock. Now it’s investing in Lucid, a Tesla competitor\n",
      "56 SpaceX's 1st traveler is moonstruck Japanese fashion tycoon\n",
      "57 British cave diver sues Elon Musk over 'pedo' comments\n",
      "58 Tesla says it has turned over documents to feds\n",
      "59 U.S. criminal investigators knocking Tesla Tweet\n",
      "60 US Justice Department opens investigation into Tesla's 'go-private' plan | afr.com\n",
      "61 Tesla is cooperating with the DOJ investigation\n",
      "62 Tesla gets DOJ request for documents over Musk statements\n",
      "63 Tesla gets DOJ request for documents over Musk statements\n",
      "64 Tesla Is Under Investigation By The Justice Department\n",
      "65 Tesla's built-in dashcam feature is coming with Autopilot 9\n",
      "66 Tesla Is Under Investigation By The Justice Department\n",
      "67 SpaceX's 1st traveler is moonstruck Japanese fashion tycoon\n",
      "68 Tesla shares fall after report of criminal investigation\n",
      "69 Elon Musk’s Infamous ‘Funding Secured’ Tweet Draws Justice Department Investigation\n",
      "70 Tesla Is Under Investigation By The Justice Department\n",
      "71 Uber and Careem in Middle East merger talks\n",
      "72 Former GM exec Bob Lutz predicts conspiracy theorists will soon be asking 'Who killed Tesla?' (TSLA)\n",
      "73 The Saudi wealth fund bought Tesla stock. Now it's investing in Lucid, a Tesla competitor\n",
      "74 Tesla confirms it is under probe by US Justice Department\n",
      "75 Tesla confirms it is under probe by US Justice Department\n",
      "76 Tesla Is Under Investigation By The Justice Department\n",
      "77 Tesla Is Under Investigation By The Justice Department\n",
      "78 SpaceX's 1st traveler is moonstruck Japanese fashion tycoon\n",
      "79 Tesla Is Under Investigation By The Justice Department\n",
      "80 Tesla confirms it is under probe by US Justice Department\n",
      "81 Tesla confirms it is under probe by US Justice Department\n",
      "82 SpaceX's 1st traveler is moonstruck Japanese fashion tycoon - KSBY.com | San Luis Obispo and Santa Barbara Area News\n",
      "83 Tesla confirms it is under probe by US Justice Department\n",
      "84 Tesla needs to put a seat belt on Elon Musk\n",
      "85 Tesla needs to put a seat belt on Elon Musk\n",
      "86 Tesla confirms it is under probe by US Justice Department\n",
      "87 Tesla shares fall after report of criminal investigation\n",
      "88 Tesla needs to put a seat belt on Elon Musk\n",
      "89 British cave diver sues Elon Musk over 'pedo' comments\n",
      "90 Tesla confirms it is under probe by US Justice Department\n",
      "91 The Audi e-tron, electric SUV to challenge Tesla\n",
      "92 Wednesday Papers: China retaliates against new US tariffs\n",
      "93 Tesla confirms it is under probe by US Justice Department\n",
      "94 Tesla Stock Tumbles On Report Of DOJ Criminal Probe\n",
      "95 Tesla confirms it is under probe by US Justice Department- The New Indian Express\n",
      "96 A Tesla competitor just got $1 billion boost from Saudi Arabia\n",
      "97 Lucid Motors gets funding from Saudi Arabia’s investment fund\n",
      "98 Tesla Is Under Investigation By The Justice Department\n",
      "99 AutoNation CEO Mike Jackson on stepping down, the state of autos and Tesla\n"
     ]
    }
   ],
   "source": [
    "feeds = []\n",
    "i = 0\n",
    "for feed in output['posts']:\n",
    "    feed['id'] = i\n",
    "    print(feed['id'], str(feed['title']))\n",
    "    i += 1\n",
    "    feeds.append(feed)"
   ]
  },
  {
   "cell_type": "markdown",
   "metadata": {},
   "source": [
    "### Define distance, index using SimHash, calculate duplicates subset using SimHash only"
   ]
  },
  {
   "cell_type": "code",
   "execution_count": 38,
   "metadata": {},
   "outputs": [],
   "source": [
    "distance = 25\n",
    "objs = [(str(feed['id']), Simhash(str(feed['title']))) for feed in feeds]\n",
    "index = SimhashIndex(objs, k=distance)"
   ]
  },
  {
   "cell_type": "code",
   "execution_count": 39,
   "metadata": {},
   "outputs": [
    {
     "name": "stdout",
     "output_type": "stream",
     "text": [
      "Tesla Is Under Investigation By The Justice Department\n",
      "Number of duplicates (SimHash): 36\n"
     ]
    }
   ],
   "source": [
    "# Select a feed from the list based on its index\n",
    "SELECTED_INDEX = 44 #27\n",
    "feed_sel = feeds[SELECTED_INDEX]\n",
    "print(feed_sel['title'])\n",
    "# calculate  hash value\n",
    "feed_hash = Simhash(str(feed_sel['title']))\n",
    "# find all duplicate indices\n",
    "dup_indices = index.get_near_dups(feed_hash)\n",
    "print(\"Number of duplicates (SimHash): \" + str(len(dup_indices)))"
   ]
  },
  {
   "cell_type": "markdown",
   "metadata": {},
   "source": [
    "### Print SimHash-based duplicate titles"
   ]
  },
  {
   "cell_type": "code",
   "execution_count": 40,
   "metadata": {},
   "outputs": [
    {
     "name": "stdout",
     "output_type": "stream",
     "text": [
      "Tesla Is Under Investigation By The Justice Department\n",
      "Tesla Is Under Investigation By The Justice Department\n",
      "Tesla under investigation by Justice Department over CEO Elon Musk's comments about taking company private\n",
      "Tesla confirms it is under probe by US Justice Department\n",
      "Tesla confirms it is under probe by US Justice Department\n",
      "Tesla confirms it is under probe by US Justice Department\n",
      "Tesla is cooperating with the DOJ investigation\n",
      "Tesla Is Under Investigation By The Justice Department\n",
      "Tesla confirms it is under probe by US Justice Department\n",
      "Tesla confirms it is under probe by US Justice Department\n",
      "Tesla Is Under Investigation By The Justice Department\n",
      "Tesla confirms criminal probe into Musk talk of going private\n",
      "Tesla is facing a criminal investigation by the U.S. Justice\n",
      "Tesla Is Under Investigation By The Justice Department\n",
      "Tesla to be investigated by US Justice Department over Elon Musk tweets | The Independent\n",
      "Tesla Faces Justice Department Investigation Over Musk's Tweets\n",
      "Elon Musk’s Infamous ‘Funding Secured’ Tweet Draws Justice Department Investigation\n",
      "Tesla confirms it is under probe by US Justice Department\n",
      "Tesla Is Under Investigation By The Justice Department\n",
      "US Justice Department opens investigation into Tesla's 'go-private' plan | afr.com\n",
      "Tesla Is Under Investigation By The Justice Department\n",
      "Tesla Is Under Investigation By The Justice Department\n",
      "Tesla confirms it is under probe by US Justice Department\n",
      "Tesla Is Under Investigation By The Justice Department\n",
      "Tesla Is Under Investigation By The Justice Department\n",
      "Tesla Is Under Investigation By The Justice Department\n",
      "Tesla Is Under Investigation By The Justice Department\n",
      "Tesla faces Justice Department criminal investigation over Elon Musk's tweets | kiiitv.com\n",
      "Tesla Is Under Investigation By The Justice Department\n",
      "Tesla confirms criminal probe into Musk talk of going private\n",
      "U.S. criminal investigators knocking Tesla Tweet\n",
      "Tesla to be investigated by US Justice Department over Elon Musk tweets\n",
      "Tesla confirms it is under probe by US Justice Department\n",
      "Now Tesla could face criminal charges for Musk’s ‘taking Tesla private’ tweet\n",
      "Tesla : Saudis clinch $1-billion deal with Lucid Motors as Tesla faces criminal probe\n",
      "Tesla confirms it is under probe by US Justice Department- The New Indian Express\n"
     ]
    }
   ],
   "source": [
    "for dupi in dup_indices:\n",
    "    print(feeds[int(dupi)]['title'])"
   ]
  },
  {
   "cell_type": "markdown",
   "metadata": {},
   "source": [
    "### Calculate and print SimHash + Word2Vec similarity based duplicate titles"
   ]
  },
  {
   "cell_type": "code",
   "execution_count": 41,
   "metadata": {},
   "outputs": [
    {
     "name": "stdout",
     "output_type": "stream",
     "text": [
      "Tesla Is Under Investigation By The Justice Department\n",
      "Tesla Is Under Investigation By The Justice Department\n",
      "Tesla Is Under Investigation By The Justice Department\n",
      "Tesla Is Under Investigation By The Justice Department\n",
      "Tesla Is Under Investigation By The Justice Department\n",
      "Tesla Is Under Investigation By The Justice Department\n",
      "Tesla Is Under Investigation By The Justice Department\n",
      "Tesla Is Under Investigation By The Justice Department\n",
      "Tesla Is Under Investigation By The Justice Department\n",
      "Tesla Is Under Investigation By The Justice Department\n",
      "Tesla Is Under Investigation By The Justice Department\n",
      "Tesla Is Under Investigation By The Justice Department\n",
      "Tesla Is Under Investigation By The Justice Department\n",
      "Number of Dupies (SimHash + WordVectors): 13\n"
     ]
    }
   ],
   "source": [
    "count_dup = 0\n",
    "for dupi in dup_indices:\n",
    "    try:\n",
    "        score = calc_similarity(feed_sel['title'], feeds[int(dupi)]['title'], model_w2v_AP)\n",
    "    except:\n",
    "        score = 0\n",
    "    if score > 0.9:\n",
    "        count_dup += 1\n",
    "        print(feeds[int(dupi)]['title'])\n",
    "print(\"Number of Dupies (SimHash + WordVectors): \" + str(count_dup))"
   ]
  },
  {
   "cell_type": "code",
   "execution_count": null,
   "metadata": {},
   "outputs": [],
   "source": []
  }
 ],
 "metadata": {
  "kernelspec": {
   "display_name": "Python 3",
   "language": "python",
   "name": "python3"
  },
  "language_info": {
   "codemirror_mode": {
    "name": "ipython",
    "version": 3
   },
   "file_extension": ".py",
   "mimetype": "text/x-python",
   "name": "python",
   "nbconvert_exporter": "python",
   "pygments_lexer": "ipython3",
   "version": "3.6.5"
  }
 },
 "nbformat": 4,
 "nbformat_minor": 2
}
