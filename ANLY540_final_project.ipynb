{
 "cells": [
  {
   "cell_type": "code",
   "execution_count": 1,
   "metadata": {},
   "outputs": [],
   "source": [
    "# 1. Get 10,000 feeds - Assignment 5"
   ]
  },
  {
   "cell_type": "code",
   "execution_count": null,
   "metadata": {},
   "outputs": [],
   "source": [
    "import webhoseio\n",
    "webhoseio.config(token=\"2c45808b-852d-4156-af2f-faf960992ea9\")\n",
    "query_params = {\"q\": \"organization:Apple\", #change to other org to get 10,000 feeds\n",
    "                \"sort\": \"crawled\"}\n",
    "output = webhoseio.query(\"filterWebContent\", query_params)\n",
    "print(output['posts'][0]['text']) # Print the text of the first post\n",
    "print(output['posts'][0]['published']) # Print the text of the first post publication date\n",
    "\n",
    "# Print the site of the first post\n",
    "print(output['posts'][0]['thread']['site'])\n",
    "\n",
    "feeds = []\n",
    "for item in output['posts']:\n",
    "    feeds.append(item)\n",
    "    #print(item['title'])\n",
    "print(len(feeds))\n",
    "\n",
    "count = 100\n",
    "while count > 0:    \n",
    "    output = webhoseio.get_next()\n",
    "    for item in output['posts']:\n",
    "        feeds.append(item)\n",
    "    count -= 1\n",
    "#     if len(feeds) > 10000:\n",
    "#         break\n",
    "# feeds = feeds[:10000]\n",
    "print(len(feeds)) #try changed org to get 10,000 feeds\n",
    "\n",
    "import json\n",
    "with open(\"anly540_final.json\", \"w\") as myfile: #change file name to other org\n",
    "    for feed in feeds:\n",
    "        line = json.dumps(feed)\n",
    "        myfile.write(line)\n",
    "        myfile.write(\"\\n\")\n",
    "        \n",
    "json_data = open(\"anly540_apple.json\").readlines()\n",
    "feeds_read_from_file = []\n",
    "for line in json_data:\n",
    "    feeds_read_from_file.append(json.loads(line))\n",
    "print(len(feeds_read_from_file))\n",
    "\n",
    "for feed in feeds_read_from_file[:10]:\n",
    "    print(feed['title'], '\\n')\n",
    "    print(feed['text'], '\\n')\n",
    "    print(feed['url'], '\\n')\n",
    "#print(feeds_read_from_file[0]['title'])\n"
   ]
  },
  {
   "cell_type": "code",
   "execution_count": null,
   "metadata": {},
   "outputs": [],
   "source": [
    "# 2. "
   ]
  }
 ],
 "metadata": {
  "kernelspec": {
   "display_name": "Python 3",
   "language": "python",
   "name": "python3"
  },
  "language_info": {
   "codemirror_mode": {
    "name": "ipython",
    "version": 3
   },
   "file_extension": ".py",
   "mimetype": "text/x-python",
   "name": "python",
   "nbconvert_exporter": "python",
   "pygments_lexer": "ipython3",
   "version": "3.6.7"
  }
 },
 "nbformat": 4,
 "nbformat_minor": 2
}
