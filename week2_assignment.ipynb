{
 "cells": [
  {
   "cell_type": "code",
   "execution_count": null,
   "metadata": {},
   "outputs": [],
   "source": [
    "# Week 2 Assignment\n",
    "# Review Python Regular Expressions:\n",
    "\n",
    "# https://docs.python.org/3/library/re.html\n",
    "# https://docs.python.org/3/howto/regex.html\n",
    "# Review Chapters 1 & 3 of NLTK Book:\n",
    "\n",
    "# http://www.nltk.org/book/ch01.htmlhttp://www.nltk.org/book/ch03.html\n",
    "# Install NLTK & Corpuses:\n",
    "# Run Python3 shell:\n",
    "# -% python\n",
    "# -> install nltk\n",
    "# -> nltk.download()\n",
    "# Write a Python program (in PyCharm or Jupyter) that will perform the following operations on the article text (copy-paste from the URL below) using re and nltk libraries:\n",
    "\n",
    "# http://fortune.com/2018/04/02/tesla-deliveries-come-up-short/\n",
    "\n",
    "# Find all matches of $ amounts in the article\n",
    "# Substitute all numbers with # and print text\n",
    "# Tokenize and print each sentence\n",
    "# Tokenize words, print trigrams in the first 3 sentences\n",
    "# Print counts of ”Tesla” and “Musk” mentions\n",
    "# Your final submission should be .py or .ipynb file."
   ]
  },
  {
   "cell_type": "code",
   "execution_count": 1,
   "metadata": {},
   "outputs": [],
   "source": [
    "import re\n",
    "from nltk import word_tokenize, sent_tokenize, ngrams\n",
    "import urllib\n",
    "from collections import Counter"
   ]
  },
  {
   "cell_type": "code",
   "execution_count": 2,
   "metadata": {},
   "outputs": [
    {
     "name": "stdout",
     "output_type": "stream",
     "text": [
      "Tesla's Trying to Fix Things But Investors Keep Bailing As the Stock Drops off a Cliff \n",
      "With pressure escalating during one of the worst weeks in its almost 15-year-history, Tesla Inc. raced to manufacture and deliver as many Model 3 sedans as it could to report to rattled investors. The carmaker still probably came up short.\n",
      "Tesla’s Fremont, California, delivery hub was packed with people Saturday evening as the last hours of the quarter drew to a close. Red couches and tall white tables were set up outside, a DJ played music and a truck selling Vietnamese food was on hand. Behind the scenes, a company that’s struggled to figure out how to mass manufacture cars had implored workers to get production on track and disprove their doubters.\n",
      "But the skeptics are getting louder after the last few days. The electric-car maker led by Elon Musk has come under regulatory scrutiny for the second crash this year involving Tesla’s driver-assistance system Autopilot, the latest of which resulted in a fatality. Moody’s Investors Service last week downgraded the company’s credit rating further into junk, saying production problems and mounting obligations could necessitate a more than $2 billion capital raise soon to avoid running out of cash. Tesla shares plunged as much as 5.7 percent in early trading Monday.\n",
      "“It’s about the magnitude of the miss,” Philippe Houchois, a Jefferies Group LLC who rates the shares a hold, wrote in a report to clients Monday. Tesla probably fell short of a company-supplied consensus estimate of 10,000 Model 3 deliveries in the first quarter and may have trailed its target to end March making the sedan at 2,500-unit weekly rate, he said.\n",
      "Musk, 46, risked coming off as tone deaf to investor concerns by sending a series of April Fools’ Day tweets to joke that Tesla had gone bankrupt. The chief executive officer first unveiled the Model 3 on March 31, 2016, and Tesla’s manufacturing woes have kept hundreds of thousands of consumers who placed $1,000 deposits for the sedan waiting.\n",
      "Tesla’s stock dropped 4.2 percent to $255 as of 8:14 a.m. in New York, before the start of regular trading. The shares fell 22 percent in March, the steepest monthly drop since December 2010, the year the company went public.\n",
      "‘Dream Car’ Social media posts by customers who took delivery of their Model 3 over the holiday weekend suggest Tesla still maintains an army of true believers willing to stay put in line for their car. “Two years ago to the day, I put down a deposit on a car I’d never even seen before,” Amanda Bell, a software developer in Nashville, wrote Saturday on Twitter. “Today, I picked up my dream car.” Bell, 26, said by phone Sunday that she likes that Tesla’s cars have the ability to roll out new features via software updates. Since starting Model 3 deliveries in July of last year, Tesla has pushed back production goals for the car several times, citing issues with battery output and automating its assembly lines. The company forecast back in January that it would likely end the first quarter making about 2,500 units of the car a week. Sign of Confidence?\n",
      "Tesla reports production and deliveries results within a few days of each quarter ending. Musk tweeted to tease “important news in a few hours” on Sunday afternoon, then sent the tongue-in-cheek posts about Tesla going bankrupt. “While the April Fool’s tweet, to us, was poorly timed and likely frustrating to TSLA’s IR team, there is likely nothing to see here,” James Albertine, an analyst at Consumer Edge Research who recommends buying the shares, wrote in a report Monday. Bloomberg is tracking the Model 3 rollout with an experimental tool that estimates production using vehicle identification numbers. The tracker estimates that Tesla is building about 1,190 Model 3s a week as of Sunday, though that figure may not capture any last-minute burst in output. Tesla may have produced almost 9,300 of the sedans in the quarter, according to the tracker.\n",
      "For more on the Model 3 tracker’s methodology, click here Barclays Plc analyst Brian Johnson has warned clients to watch out for a potential “burst rate bear trap,” in which Tesla beats Wall Street’s lowered projections for Model 3 deliveries. He estimated Tesla was producing 1,500 to 1,700 units of the Model 3 each week.\n",
      "“We think it’s possible Tesla may have stockpiled batteries amid Fremont downtime, allowing production to be higher in the final week,” Johnson wrote in a report Thursday. “Any such ‘beat’ is unlikely to be sustainable, and questions remain on Tesla’s ability to sustainably reach” its goals.\n",
      "Tesla faces a pileup of other challenges, including scrutiny of Autopilot. The National Transportation Safety Board is investigating a fatal Model X crash that occurred March 23 in Mountain View involving a driver who had engaged the driver-assistance system.\n",
      "Unhappy Regulator\n",
      "Tesla published a blog post late Friday that said the driver didn’t have his hands on the steering wheel for six seconds before colliding with a highway divider, despite receiving several visual and one audible warnings earlier.\n",
      "The NTSB is “unhappy” that Tesla is disclosing information during an active crash investigation, spokesman Chris O’Neil said Sunday. The agency will look into all aspects of the incident, including the driver previously raising concerns about the Autopilot system, he said.\n",
      "“This is another potential illustration of the mushy middle of automation,” Bryant Walker Smith, a University of South Carolina law professor who studies self-driving cars, said in an email. Partial automation systems such as Tesla’s Autopilot “work unless and until they don’t,” and there will be speculation and research about how safe they are, he said.\n",
      "Nightmare Week\n",
      "Tesla’s nightmare week also included a Moody’s downgrade of the company’s corporate family rating to B3, six levels into junk, which sent its unsecured bonds to all-time lows. Late Thursday, the carmaker recalled all 123,000 Model S cars built before April 2016 to retrofit a power-steering component.\n",
      "Tesla’s release of Model 3 deliveries results may “diffuse some of the near-term ‘headwinds from the headlines,”’ wrote Albertine, the Consumer Edge Research analyst. Investors may be looking for the company to report that it made about 1,750 Model 3 sedans a week, which many would view as positive progress despite being below the company’s guidance, he said.\n",
      "“While it seems a perfect storm is weighing on shares, we are buyers into pressure as Model 3 production ramps,” Ben Kallo, an analyst at Robert W. Baird, wrote in a report Monday.\n"
     ]
    }
   ],
   "source": [
    "text = \"\"\"Tesla's Trying to Fix Things But Investors Keep Bailing As the Stock Drops off a Cliff \n",
    "With pressure escalating during one of the worst weeks in its almost 15-year-history, Tesla Inc. raced to manufacture and deliver as many Model 3 sedans as it could to report to rattled investors. The carmaker still probably came up short.\n",
    "Tesla’s Fremont, California, delivery hub was packed with people Saturday evening as the last hours of the quarter drew to a close. Red couches and tall white tables were set up outside, a DJ played music and a truck selling Vietnamese food was on hand. Behind the scenes, a company that’s struggled to figure out how to mass manufacture cars had implored workers to get production on track and disprove their doubters.\n",
    "But the skeptics are getting louder after the last few days. The electric-car maker led by Elon Musk has come under regulatory scrutiny for the second crash this year involving Tesla’s driver-assistance system Autopilot, the latest of which resulted in a fatality. Moody’s Investors Service last week downgraded the company’s credit rating further into junk, saying production problems and mounting obligations could necessitate a more than $2 billion capital raise soon to avoid running out of cash. Tesla shares plunged as much as 5.7 percent in early trading Monday.\n",
    "“It’s about the magnitude of the miss,” Philippe Houchois, a Jefferies Group LLC who rates the shares a hold, wrote in a report to clients Monday. Tesla probably fell short of a company-supplied consensus estimate of 10,000 Model 3 deliveries in the first quarter and may have trailed its target to end March making the sedan at 2,500-unit weekly rate, he said.\n",
    "Musk, 46, risked coming off as tone deaf to investor concerns by sending a series of April Fools’ Day tweets to joke that Tesla had gone bankrupt. The chief executive officer first unveiled the Model 3 on March 31, 2016, and Tesla’s manufacturing woes have kept hundreds of thousands of consumers who placed $1,000 deposits for the sedan waiting.\n",
    "Tesla’s stock dropped 4.2 percent to $255 as of 8:14 a.m. in New York, before the start of regular trading. The shares fell 22 percent in March, the steepest monthly drop since December 2010, the year the company went public.\n",
    "‘Dream Car’ Social media posts by customers who took delivery of their Model 3 over the holiday weekend suggest Tesla still maintains an army of true believers willing to stay put in line for their car. “Two years ago to the day, I put down a deposit on a car I’d never even seen before,” Amanda Bell, a software developer in Nashville, wrote Saturday on Twitter. “Today, I picked up my dream car.” Bell, 26, said by phone Sunday that she likes that Tesla’s cars have the ability to roll out new features via software updates. Since starting Model 3 deliveries in July of last year, Tesla has pushed back production goals for the car several times, citing issues with battery output and automating its assembly lines. The company forecast back in January that it would likely end the first quarter making about 2,500 units of the car a week. Sign of Confidence?\n",
    "Tesla reports production and deliveries results within a few days of each quarter ending. Musk tweeted to tease “important news in a few hours” on Sunday afternoon, then sent the tongue-in-cheek posts about Tesla going bankrupt. “While the April Fool’s tweet, to us, was poorly timed and likely frustrating to TSLA’s IR team, there is likely nothing to see here,” James Albertine, an analyst at Consumer Edge Research who recommends buying the shares, wrote in a report Monday. Bloomberg is tracking the Model 3 rollout with an experimental tool that estimates production using vehicle identification numbers. The tracker estimates that Tesla is building about 1,190 Model 3s a week as of Sunday, though that figure may not capture any last-minute burst in output. Tesla may have produced almost 9,300 of the sedans in the quarter, according to the tracker.\n",
    "For more on the Model 3 tracker’s methodology, click here Barclays Plc analyst Brian Johnson has warned clients to watch out for a potential “burst rate bear trap,” in which Tesla beats Wall Street’s lowered projections for Model 3 deliveries. He estimated Tesla was producing 1,500 to 1,700 units of the Model 3 each week.\n",
    "“We think it’s possible Tesla may have stockpiled batteries amid Fremont downtime, allowing production to be higher in the final week,” Johnson wrote in a report Thursday. “Any such ‘beat’ is unlikely to be sustainable, and questions remain on Tesla’s ability to sustainably reach” its goals.\n",
    "Tesla faces a pileup of other challenges, including scrutiny of Autopilot. The National Transportation Safety Board is investigating a fatal Model X crash that occurred March 23 in Mountain View involving a driver who had engaged the driver-assistance system.\n",
    "Unhappy Regulator\n",
    "Tesla published a blog post late Friday that said the driver didn’t have his hands on the steering wheel for six seconds before colliding with a highway divider, despite receiving several visual and one audible warnings earlier.\n",
    "The NTSB is “unhappy” that Tesla is disclosing information during an active crash investigation, spokesman Chris O’Neil said Sunday. The agency will look into all aspects of the incident, including the driver previously raising concerns about the Autopilot system, he said.\n",
    "“This is another potential illustration of the mushy middle of automation,” Bryant Walker Smith, a University of South Carolina law professor who studies self-driving cars, said in an email. Partial automation systems such as Tesla’s Autopilot “work unless and until they don’t,” and there will be speculation and research about how safe they are, he said.\n",
    "Nightmare Week\n",
    "Tesla’s nightmare week also included a Moody’s downgrade of the company’s corporate family rating to B3, six levels into junk, which sent its unsecured bonds to all-time lows. Late Thursday, the carmaker recalled all 123,000 Model S cars built before April 2016 to retrofit a power-steering component.\n",
    "Tesla’s release of Model 3 deliveries results may “diffuse some of the near-term ‘headwinds from the headlines,”’ wrote Albertine, the Consumer Edge Research analyst. Investors may be looking for the company to report that it made about 1,750 Model 3 sedans a week, which many would view as positive progress despite being below the company’s guidance, he said.\n",
    "“While it seems a perfect storm is weighing on shares, we are buyers into pressure as Model 3 production ramps,” Ben Kallo, an analyst at Robert W. Baird, wrote in a report Monday.\"\"\"\n",
    "print(text)"
   ]
  },
  {
   "cell_type": "code",
   "execution_count": 3,
   "metadata": {},
   "outputs": [
    {
     "name": "stdout",
     "output_type": "stream",
     "text": [
      "153$2571000032500463312016$100042$2558142220103263250031190393003315001700323312300020163175033\n",
      "<_sre.SRE_Match object at 0x1a1e499dc8>\n"
     ]
    }
   ],
   "source": [
    "#Find all matches of $ amounts in the article\n",
    "print(re.sub(r'[^$0-9]', '', text))\n",
    "print(re.search('\\$(.+?) ',text))"
   ]
  },
  {
   "cell_type": "code",
   "execution_count": 4,
   "metadata": {},
   "outputs": [
    {
     "name": "stdout",
     "output_type": "stream",
     "text": [
      "Tesla's Trying to Fix Things But Investors Keep Bailing As the Stock Drops off a Cliff \n",
      "With pressure escalating during one of the worst weeks in its almost ##-year-history, Tesla Inc. raced to manufacture and deliver as many Model # sedans as it could to report to rattled investors. The carmaker still probably came up short.\n",
      "Tesla’s Fremont, California, delivery hub was packed with people Saturday evening as the last hours of the quarter drew to a close. Red couches and tall white tables were set up outside, a DJ played music and a truck selling Vietnamese food was on hand. Behind the scenes, a company that’s struggled to figure out how to mass manufacture cars had implored workers to get production on track and disprove their doubters.\n",
      "But the skeptics are getting louder after the last few days. The electric-car maker led by Elon Musk has come under regulatory scrutiny for the second crash this year involving Tesla’s driver-assistance system Autopilot, the latest of which resulted in a fatality. Moody’s Investors Service last week downgraded the company’s credit rating further into junk, saying production problems and mounting obligations could necessitate a more than $# billion capital raise soon to avoid running out of cash. Tesla shares plunged as much as #.# percent in early trading Monday.\n",
      "“It’s about the magnitude of the miss,” Philippe Houchois, a Jefferies Group LLC who rates the shares a hold, wrote in a report to clients Monday. Tesla probably fell short of a company-supplied consensus estimate of ##,### Model # deliveries in the first quarter and may have trailed its target to end March making the sedan at #,###-unit weekly rate, he said.\n",
      "Musk, ##, risked coming off as tone deaf to investor concerns by sending a series of April Fools’ Day tweets to joke that Tesla had gone bankrupt. The chief executive officer first unveiled the Model # on March ##, ####, and Tesla’s manufacturing woes have kept hundreds of thousands of consumers who placed $#,### deposits for the sedan waiting.\n",
      "Tesla’s stock dropped #.# percent to $### as of #:## a.m. in New York, before the start of regular trading. The shares fell ## percent in March, the steepest monthly drop since December ####, the year the company went public.\n",
      "‘Dream Car’ Social media posts by customers who took delivery of their Model # over the holiday weekend suggest Tesla still maintains an army of true believers willing to stay put in line for their car. “Two years ago to the day, I put down a deposit on a car I’d never even seen before,” Amanda Bell, a software developer in Nashville, wrote Saturday on Twitter. “Today, I picked up my dream car.” Bell, ##, said by phone Sunday that she likes that Tesla’s cars have the ability to roll out new features via software updates. Since starting Model # deliveries in July of last year, Tesla has pushed back production goals for the car several times, citing issues with battery output and automating its assembly lines. The company forecast back in January that it would likely end the first quarter making about #,### units of the car a week. Sign of Confidence?\n",
      "Tesla reports production and deliveries results within a few days of each quarter ending. Musk tweeted to tease “important news in a few hours” on Sunday afternoon, then sent the tongue-in-cheek posts about Tesla going bankrupt. “While the April Fool’s tweet, to us, was poorly timed and likely frustrating to TSLA’s IR team, there is likely nothing to see here,” James Albertine, an analyst at Consumer Edge Research who recommends buying the shares, wrote in a report Monday. Bloomberg is tracking the Model # rollout with an experimental tool that estimates production using vehicle identification numbers. The tracker estimates that Tesla is building about #,### Model #s a week as of Sunday, though that figure may not capture any last-minute burst in output. Tesla may have produced almost #,### of the sedans in the quarter, according to the tracker.\n",
      "For more on the Model # tracker’s methodology, click here Barclays Plc analyst Brian Johnson has warned clients to watch out for a potential “burst rate bear trap,” in which Tesla beats Wall Street’s lowered projections for Model # deliveries. He estimated Tesla was producing #,### to #,### units of the Model # each week.\n",
      "“We think it’s possible Tesla may have stockpiled batteries amid Fremont downtime, allowing production to be higher in the final week,” Johnson wrote in a report Thursday. “Any such ‘beat’ is unlikely to be sustainable, and questions remain on Tesla’s ability to sustainably reach” its goals.\n",
      "Tesla faces a pileup of other challenges, including scrutiny of Autopilot. The National Transportation Safety Board is investigating a fatal Model X crash that occurred March ## in Mountain View involving a driver who had engaged the driver-assistance system.\n",
      "Unhappy Regulator\n",
      "Tesla published a blog post late Friday that said the driver didn’t have his hands on the steering wheel for six seconds before colliding with a highway divider, despite receiving several visual and one audible warnings earlier.\n",
      "The NTSB is “unhappy” that Tesla is disclosing information during an active crash investigation, spokesman Chris O’Neil said Sunday. The agency will look into all aspects of the incident, including the driver previously raising concerns about the Autopilot system, he said.\n",
      "“This is another potential illustration of the mushy middle of automation,” Bryant Walker Smith, a University of South Carolina law professor who studies self-driving cars, said in an email. Partial automation systems such as Tesla’s Autopilot “work unless and until they don’t,” and there will be speculation and research about how safe they are, he said.\n",
      "Nightmare Week\n",
      "Tesla’s nightmare week also included a Moody’s downgrade of the company’s corporate family rating to B#, six levels into junk, which sent its unsecured bonds to all-time lows. Late Thursday, the carmaker recalled all ###,### Model S cars built before April #### to retrofit a power-steering component.\n",
      "Tesla’s release of Model # deliveries results may “diffuse some of the near-term ‘headwinds from the headlines,”’ wrote Albertine, the Consumer Edge Research analyst. Investors may be looking for the company to report that it made about #,### Model # sedans a week, which many would view as positive progress despite being below the company’s guidance, he said.\n",
      "“While it seems a perfect storm is weighing on shares, we are buyers into pressure as Model # production ramps,” Ben Kallo, an analyst at Robert W. Baird, wrote in a report Monday.\n"
     ]
    }
   ],
   "source": [
    "#Substitute all numbers with # and print text\n",
    "print(re.sub(r'[0-9]','#',text))"
   ]
  },
  {
   "cell_type": "code",
   "execution_count": 5,
   "metadata": {},
   "outputs": [
    {
     "ename": "LookupError",
     "evalue": "\n**********************************************************************\n  Resource \u001b[93mpunkt\u001b[0m not found.\n  Please use the NLTK Downloader to obtain the resource:\n\n  \u001b[31m>>> import nltk\n  >>> nltk.download('punkt')\n  \u001b[0m\n  Searched in:\n    - '/Users/yangsu/nltk_data'\n    - '/usr/share/nltk_data'\n    - '/usr/local/share/nltk_data'\n    - '/usr/lib/nltk_data'\n    - '/usr/local/lib/nltk_data'\n    - '/Users/yangsu/miniconda2/nltk_data'\n    - '/Users/yangsu/miniconda2/share/nltk_data'\n    - '/Users/yangsu/miniconda2/lib/nltk_data'\n    - u''\n**********************************************************************\n",
     "output_type": "error",
     "traceback": [
      "\u001b[0;31m---------------------------------------------------------------------------\u001b[0m",
      "\u001b[0;31mLookupError\u001b[0m                               Traceback (most recent call last)",
      "\u001b[0;32m<ipython-input-5-6a7407ee9629>\u001b[0m in \u001b[0;36m<module>\u001b[0;34m()\u001b[0m\n\u001b[1;32m      1\u001b[0m \u001b[0;31m#Tokenize and print each sentence\u001b[0m\u001b[0;34m\u001b[0m\u001b[0;34m\u001b[0m\u001b[0m\n\u001b[0;32m----> 2\u001b[0;31m \u001b[0msentences\u001b[0m \u001b[0;34m=\u001b[0m \u001b[0msent_tokenize\u001b[0m\u001b[0;34m(\u001b[0m\u001b[0mtext\u001b[0m\u001b[0;34m)\u001b[0m\u001b[0;34m\u001b[0m\u001b[0m\n\u001b[0m\u001b[1;32m      3\u001b[0m \u001b[0;32mfor\u001b[0m \u001b[0msentence\u001b[0m \u001b[0;32min\u001b[0m \u001b[0msentences\u001b[0m\u001b[0;34m:\u001b[0m\u001b[0;34m\u001b[0m\u001b[0m\n\u001b[1;32m      4\u001b[0m     \u001b[0;32mprint\u001b[0m\u001b[0;34m(\u001b[0m\u001b[0msentence\u001b[0m\u001b[0;34m)\u001b[0m\u001b[0;34m\u001b[0m\u001b[0m\n",
      "\u001b[0;32m/Users/yangsu/miniconda2/lib/python2.7/site-packages/nltk/tokenize/__init__.pyc\u001b[0m in \u001b[0;36msent_tokenize\u001b[0;34m(text, language)\u001b[0m\n\u001b[1;32m     92\u001b[0m     \u001b[0;34m:\u001b[0m\u001b[0mparam\u001b[0m \u001b[0mlanguage\u001b[0m\u001b[0;34m:\u001b[0m \u001b[0mthe\u001b[0m \u001b[0mmodel\u001b[0m \u001b[0mname\u001b[0m \u001b[0;32min\u001b[0m \u001b[0mthe\u001b[0m \u001b[0mPunkt\u001b[0m \u001b[0mcorpus\u001b[0m\u001b[0;34m\u001b[0m\u001b[0m\n\u001b[1;32m     93\u001b[0m     \"\"\"\n\u001b[0;32m---> 94\u001b[0;31m     \u001b[0mtokenizer\u001b[0m \u001b[0;34m=\u001b[0m \u001b[0mload\u001b[0m\u001b[0;34m(\u001b[0m\u001b[0;34m'tokenizers/punkt/{0}.pickle'\u001b[0m\u001b[0;34m.\u001b[0m\u001b[0mformat\u001b[0m\u001b[0;34m(\u001b[0m\u001b[0mlanguage\u001b[0m\u001b[0;34m)\u001b[0m\u001b[0;34m)\u001b[0m\u001b[0;34m\u001b[0m\u001b[0m\n\u001b[0m\u001b[1;32m     95\u001b[0m     \u001b[0;32mreturn\u001b[0m \u001b[0mtokenizer\u001b[0m\u001b[0;34m.\u001b[0m\u001b[0mtokenize\u001b[0m\u001b[0;34m(\u001b[0m\u001b[0mtext\u001b[0m\u001b[0;34m)\u001b[0m\u001b[0;34m\u001b[0m\u001b[0m\n\u001b[1;32m     96\u001b[0m \u001b[0;34m\u001b[0m\u001b[0m\n",
      "\u001b[0;32m/Users/yangsu/miniconda2/lib/python2.7/site-packages/nltk/data.pyc\u001b[0m in \u001b[0;36mload\u001b[0;34m(resource_url, format, cache, verbose, logic_parser, fstruct_reader, encoding)\u001b[0m\n\u001b[1;32m    834\u001b[0m \u001b[0;34m\u001b[0m\u001b[0m\n\u001b[1;32m    835\u001b[0m     \u001b[0;31m# Load the resource.\u001b[0m\u001b[0;34m\u001b[0m\u001b[0;34m\u001b[0m\u001b[0m\n\u001b[0;32m--> 836\u001b[0;31m     \u001b[0mopened_resource\u001b[0m \u001b[0;34m=\u001b[0m \u001b[0m_open\u001b[0m\u001b[0;34m(\u001b[0m\u001b[0mresource_url\u001b[0m\u001b[0;34m)\u001b[0m\u001b[0;34m\u001b[0m\u001b[0m\n\u001b[0m\u001b[1;32m    837\u001b[0m \u001b[0;34m\u001b[0m\u001b[0m\n\u001b[1;32m    838\u001b[0m     \u001b[0;32mif\u001b[0m \u001b[0mformat\u001b[0m \u001b[0;34m==\u001b[0m \u001b[0;34m'raw'\u001b[0m\u001b[0;34m:\u001b[0m\u001b[0;34m\u001b[0m\u001b[0m\n",
      "\u001b[0;32m/Users/yangsu/miniconda2/lib/python2.7/site-packages/nltk/data.pyc\u001b[0m in \u001b[0;36m_open\u001b[0;34m(resource_url)\u001b[0m\n\u001b[1;32m    952\u001b[0m \u001b[0;34m\u001b[0m\u001b[0m\n\u001b[1;32m    953\u001b[0m     \u001b[0;32mif\u001b[0m \u001b[0mprotocol\u001b[0m \u001b[0;32mis\u001b[0m \u001b[0mNone\u001b[0m \u001b[0;32mor\u001b[0m \u001b[0mprotocol\u001b[0m\u001b[0;34m.\u001b[0m\u001b[0mlower\u001b[0m\u001b[0;34m(\u001b[0m\u001b[0;34m)\u001b[0m \u001b[0;34m==\u001b[0m \u001b[0;34m'nltk'\u001b[0m\u001b[0;34m:\u001b[0m\u001b[0;34m\u001b[0m\u001b[0m\n\u001b[0;32m--> 954\u001b[0;31m         \u001b[0;32mreturn\u001b[0m \u001b[0mfind\u001b[0m\u001b[0;34m(\u001b[0m\u001b[0mpath_\u001b[0m\u001b[0;34m,\u001b[0m \u001b[0mpath\u001b[0m \u001b[0;34m+\u001b[0m \u001b[0;34m[\u001b[0m\u001b[0;34m''\u001b[0m\u001b[0;34m]\u001b[0m\u001b[0;34m)\u001b[0m\u001b[0;34m.\u001b[0m\u001b[0mopen\u001b[0m\u001b[0;34m(\u001b[0m\u001b[0;34m)\u001b[0m\u001b[0;34m\u001b[0m\u001b[0m\n\u001b[0m\u001b[1;32m    955\u001b[0m     \u001b[0;32melif\u001b[0m \u001b[0mprotocol\u001b[0m\u001b[0;34m.\u001b[0m\u001b[0mlower\u001b[0m\u001b[0;34m(\u001b[0m\u001b[0;34m)\u001b[0m \u001b[0;34m==\u001b[0m \u001b[0;34m'file'\u001b[0m\u001b[0;34m:\u001b[0m\u001b[0;34m\u001b[0m\u001b[0m\n\u001b[1;32m    956\u001b[0m         \u001b[0;31m# urllib might not use mode='rb', so handle this one ourselves:\u001b[0m\u001b[0;34m\u001b[0m\u001b[0;34m\u001b[0m\u001b[0m\n",
      "\u001b[0;32m/Users/yangsu/miniconda2/lib/python2.7/site-packages/nltk/data.pyc\u001b[0m in \u001b[0;36mfind\u001b[0;34m(resource_name, paths)\u001b[0m\n\u001b[1;32m    673\u001b[0m     \u001b[0msep\u001b[0m \u001b[0;34m=\u001b[0m \u001b[0;34m'*'\u001b[0m \u001b[0;34m*\u001b[0m \u001b[0;36m70\u001b[0m\u001b[0;34m\u001b[0m\u001b[0m\n\u001b[1;32m    674\u001b[0m     \u001b[0mresource_not_found\u001b[0m \u001b[0;34m=\u001b[0m \u001b[0;34m'\\n%s\\n%s\\n%s\\n'\u001b[0m \u001b[0;34m%\u001b[0m \u001b[0;34m(\u001b[0m\u001b[0msep\u001b[0m\u001b[0;34m,\u001b[0m \u001b[0mmsg\u001b[0m\u001b[0;34m,\u001b[0m \u001b[0msep\u001b[0m\u001b[0;34m)\u001b[0m\u001b[0;34m\u001b[0m\u001b[0m\n\u001b[0;32m--> 675\u001b[0;31m     \u001b[0;32mraise\u001b[0m \u001b[0mLookupError\u001b[0m\u001b[0;34m(\u001b[0m\u001b[0mresource_not_found\u001b[0m\u001b[0;34m)\u001b[0m\u001b[0;34m\u001b[0m\u001b[0m\n\u001b[0m\u001b[1;32m    676\u001b[0m \u001b[0;34m\u001b[0m\u001b[0m\n\u001b[1;32m    677\u001b[0m \u001b[0;34m\u001b[0m\u001b[0m\n",
      "\u001b[0;31mLookupError\u001b[0m: \n**********************************************************************\n  Resource \u001b[93mpunkt\u001b[0m not found.\n  Please use the NLTK Downloader to obtain the resource:\n\n  \u001b[31m>>> import nltk\n  >>> nltk.download('punkt')\n  \u001b[0m\n  Searched in:\n    - '/Users/yangsu/nltk_data'\n    - '/usr/share/nltk_data'\n    - '/usr/local/share/nltk_data'\n    - '/usr/lib/nltk_data'\n    - '/usr/local/lib/nltk_data'\n    - '/Users/yangsu/miniconda2/nltk_data'\n    - '/Users/yangsu/miniconda2/share/nltk_data'\n    - '/Users/yangsu/miniconda2/lib/nltk_data'\n    - u''\n**********************************************************************\n"
     ]
    }
   ],
   "source": [
    "#Tokenize and print each sentence\n",
    "sentences = sent_tokenize(text)\n",
    "for sentence in sentences:\n",
    "    print(sentence)"
   ]
  },
  {
   "cell_type": "code",
   "execution_count": 27,
   "metadata": {},
   "outputs": [
    {
     "name": "stdout",
     "output_type": "stream",
     "text": [
      "Trigrams: \n",
      "('Tesla', \"'s\", 'Trying')\n",
      "(\"'s\", 'Trying', 'to')\n",
      "('Trying', 'to', 'Fix')\n",
      "('to', 'Fix', 'Things')\n",
      "('Fix', 'Things', 'But')\n",
      "('Things', 'But', 'Investors')\n",
      "('But', 'Investors', 'Keep')\n",
      "('Investors', 'Keep', 'Bailing')\n",
      "('Keep', 'Bailing', 'As')\n",
      "('Bailing', 'As', 'the')\n",
      "('As', 'the', 'Stock')\n",
      "('the', 'Stock', 'Drops')\n",
      "('Stock', 'Drops', 'off')\n",
      "('Drops', 'off', 'a')\n",
      "('off', 'a', 'Cliff')\n",
      "('a', 'Cliff', 'With')\n",
      "('Cliff', 'With', 'pressure')\n",
      "('With', 'pressure', 'escalating')\n",
      "('pressure', 'escalating', 'during')\n",
      "('escalating', 'during', 'one')\n",
      "('during', 'one', 'of')\n",
      "('one', 'of', 'the')\n",
      "('of', 'the', 'worst')\n",
      "('the', 'worst', 'weeks')\n",
      "('worst', 'weeks', 'in')\n",
      "('weeks', 'in', 'its')\n",
      "('in', 'its', 'almost')\n",
      "('its', 'almost', '15-year-history')\n",
      "('almost', '15-year-history', ',')\n",
      "('15-year-history', ',', 'Tesla')\n",
      "(',', 'Tesla', 'Inc.')\n",
      "('Tesla', 'Inc.', 'raced')\n",
      "('Inc.', 'raced', 'to')\n",
      "('raced', 'to', 'manufacture')\n",
      "('to', 'manufacture', 'and')\n",
      "('manufacture', 'and', 'deliver')\n",
      "('and', 'deliver', 'as')\n",
      "('deliver', 'as', 'many')\n",
      "('as', 'many', 'Model')\n",
      "('many', 'Model', '3')\n",
      "('Model', '3', 'sedans')\n",
      "('3', 'sedans', 'as')\n",
      "('sedans', 'as', 'it')\n",
      "('as', 'it', 'could')\n",
      "('it', 'could', 'to')\n",
      "('could', 'to', 'report')\n",
      "('to', 'report', 'to')\n",
      "('report', 'to', 'rattled')\n",
      "('to', 'rattled', 'investors')\n",
      "('rattled', 'investors', '.')\n",
      "Counter({('Tesla', \"'s\", 'Trying'): 1, (\"'s\", 'Trying', 'to'): 1, ('Trying', 'to', 'Fix'): 1, ('to', 'Fix', 'Things'): 1, ('Fix', 'Things', 'But'): 1, ('Things', 'But', 'Investors'): 1, ('But', 'Investors', 'Keep'): 1, ('Investors', 'Keep', 'Bailing'): 1, ('Keep', 'Bailing', 'As'): 1, ('Bailing', 'As', 'the'): 1, ('As', 'the', 'Stock'): 1, ('the', 'Stock', 'Drops'): 1, ('Stock', 'Drops', 'off'): 1, ('Drops', 'off', 'a'): 1, ('off', 'a', 'Cliff'): 1, ('a', 'Cliff', 'With'): 1, ('Cliff', 'With', 'pressure'): 1, ('With', 'pressure', 'escalating'): 1, ('pressure', 'escalating', 'during'): 1, ('escalating', 'during', 'one'): 1, ('during', 'one', 'of'): 1, ('one', 'of', 'the'): 1, ('of', 'the', 'worst'): 1, ('the', 'worst', 'weeks'): 1, ('worst', 'weeks', 'in'): 1, ('weeks', 'in', 'its'): 1, ('in', 'its', 'almost'): 1, ('its', 'almost', '15-year-history'): 1, ('almost', '15-year-history', ','): 1, ('15-year-history', ',', 'Tesla'): 1, (',', 'Tesla', 'Inc.'): 1, ('Tesla', 'Inc.', 'raced'): 1, ('Inc.', 'raced', 'to'): 1, ('raced', 'to', 'manufacture'): 1, ('to', 'manufacture', 'and'): 1, ('manufacture', 'and', 'deliver'): 1, ('and', 'deliver', 'as'): 1, ('deliver', 'as', 'many'): 1, ('as', 'many', 'Model'): 1, ('many', 'Model', '3'): 1, ('Model', '3', 'sedans'): 1, ('3', 'sedans', 'as'): 1, ('sedans', 'as', 'it'): 1, ('as', 'it', 'could'): 1, ('it', 'could', 'to'): 1, ('could', 'to', 'report'): 1, ('to', 'report', 'to'): 1, ('report', 'to', 'rattled'): 1, ('to', 'rattled', 'investors'): 1, ('rattled', 'investors', '.'): 1})\n"
     ]
    }
   ],
   "source": [
    "#Tokenize words, print trigrams in the first 3 sentences\n",
    "tokens = word_tokenize(sentences[0])\n",
    "#print(tokens)\n",
    "print(\"Trigrams: \")\n",
    "for item in ngrams(tokens,3):\n",
    "    print(item)\n",
    "print(Counter(ngrams(tokens,3)))"
   ]
  },
  {
   "cell_type": "code",
   "execution_count": 81,
   "metadata": {},
   "outputs": [
    {
     "name": "stdout",
     "output_type": "stream",
     "text": [
      "The number of times the word Tesla occurs in the text is  16\n",
      "The number of times the word Tesla occurs in the text is  2\n"
     ]
    }
   ],
   "source": [
    "#Print counts of ”Tesla” and “Musk” mentions\n",
    "splitstring= text.split()\n",
    "list1=[]\n",
    "for word in splitstring:\n",
    "    if word== 'Tesla':\n",
    "        list1.append(word)\n",
    "lengthstring= len(list1)\n",
    "print(\"The number of times the word Tesla occurs in the text is \", lengthstring)\n",
    "\n",
    "#splitstring= text.split()\n",
    "list2=[]\n",
    "for word in splitstring:\n",
    "    if word== 'Musk':\n",
    "        list2.append(word)\n",
    "lengthstring2= len(list2)\n",
    "print(\"The number of times the word Musk occurs in the text is \", lengthstring2)"
   ]
  }
 ],
 "metadata": {
  "kernelspec": {
   "display_name": "Python 2",
   "language": "python",
   "name": "python2"
  },
  "language_info": {
   "codemirror_mode": {
    "name": "ipython",
    "version": 2
   },
   "file_extension": ".py",
   "mimetype": "text/x-python",
   "name": "python",
   "nbconvert_exporter": "python",
   "pygments_lexer": "ipython2",
   "version": "2.7.15"
  }
 },
 "nbformat": 4,
 "nbformat_minor": 2
}
