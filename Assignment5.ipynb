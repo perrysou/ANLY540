{
 "cells": [
  {
   "cell_type": "code",
   "execution_count": 1,
   "metadata": {},
   "outputs": [],
   "source": [
    "import webhoseio"
   ]
  },
  {
   "cell_type": "code",
   "execution_count": 2,
   "metadata": {},
   "outputs": [],
   "source": [
    "webhoseio.config(token=\"2c45808b-852d-4156-af2f-faf960992ea9\")\n",
    "query_params = {\"q\": \"organization:Apple\",\n",
    "                \"sort\": \"crawled\"}"
   ]
  },
  {
   "cell_type": "code",
   "execution_count": 3,
   "metadata": {},
   "outputs": [
    {
     "name": "stdout",
     "output_type": "stream",
     "text": [
      "Posted on December 8, 2018 - 2:43AM 12.8.18 - 2:43AM Share on Facebook Tweet this Share\n",
      "Black Friday and Cyber Monday may be over, but for retail giants like Amazon, the savings are only getting started. With free 2-day shipping for Prime members and a seemingly endless stream of daily deals, Amazon has everything need to finish crossing things off your Christmas list this year.\n",
      "To help keep you within your budget this holiday season, we will be scouring the depths of this retail giant every day to bring you the steepest discount on the latest products. If you’re ready to dive into the savings, we’ve already found the best Amazon deals for Saturday, December 8. Best Amazon Deals of the Day\n",
      "We’ve seen a lot of incredible savings come through the Amazon deals of the day pretty much every day. These one-day sales are some of the best discounts the company has to offer, but they only ever last a full 24 hours, and some will only last as long as they stay in stock. Top brands like Samsung, Dell, and Apple have all sent deals through this pipeline, so you never know what new savings you’ll see until a new day arrives.\n",
      "Here are today’s best deals:\n",
      "2018-12-05T02:00:00.000+02:00\n",
      "digitaltrends.com\n"
     ]
    }
   ],
   "source": [
    "output = webhoseio.query(\"filterWebContent\", query_params)\n",
    "print(output['posts'][0]['text']) # Print the text of the first post\n",
    "print(output['posts'][0]['published']) # Print the text of the first post publication date\n",
    "\n",
    "# Print the site of the first post\n",
    "\n",
    "print(output['posts'][0]['thread']['site'])"
   ]
  },
  {
   "cell_type": "code",
   "execution_count": 4,
   "metadata": {},
   "outputs": [
    {
     "name": "stdout",
     "output_type": "stream",
     "text": [
      "100\n"
     ]
    }
   ],
   "source": [
    "feeds = []\n",
    "for item in output['posts']:\n",
    "    feeds.append(item)\n",
    "    #print(item['title'])\n",
    "\n",
    "print(len(feeds))"
   ]
  },
  {
   "cell_type": "code",
   "execution_count": 5,
   "metadata": {},
   "outputs": [
    {
     "name": "stdout",
     "output_type": "stream",
     "text": [
      "6216\n"
     ]
    }
   ],
   "source": [
    "count = 100\n",
    "while count > 0:    \n",
    "    output = webhoseio.get_next()\n",
    "    for item in output['posts']:\n",
    "        feeds.append(item)\n",
    "    count -= 1\n",
    "#     if len(feeds) > 10000:\n",
    "#         break\n",
    "# feeds = feeds[:10000]\n",
    "print(len(feeds))"
   ]
  },
  {
   "cell_type": "code",
   "execution_count": 6,
   "metadata": {},
   "outputs": [],
   "source": [
    "import json\n",
    "with open(\"anly540_apple.json\", \"w\") as myfile:\n",
    "    for feed in feeds:\n",
    "        line = json.dumps(feed)\n",
    "        myfile.write(line)\n",
    "        myfile.write(\"\\n\")"
   ]
  },
  {
   "cell_type": "code",
   "execution_count": 7,
   "metadata": {},
   "outputs": [
    {
     "name": "stdout",
     "output_type": "stream",
     "text": [
      "6216\n"
     ]
    }
   ],
   "source": [
    "json_data = open(\"anly540_apple.json\").readlines()\n",
    "feeds_read_from_file = []\n",
    "for line in json_data:\n",
    "    feeds_read_from_file.append(json.loads(line))\n",
    "print(len(feeds_read_from_file))"
   ]
  },
  {
   "cell_type": "code",
   "execution_count": 8,
   "metadata": {},
   "outputs": [
    {
     "name": "stdout",
     "output_type": "stream",
     "text": [
      "(u\"Today's Best Amazon Deals: Routers, Roombas, and Raspberry Pi Kits | Digital Trends\", '\\n')\n",
      "(u'Posted on December 8, 2018 - 2:43AM 12.8.18 - 2:43AM Share on Facebook Tweet this Share\\nBlack Friday and Cyber Monday may be over, but for retail giants like Amazon, the savings are only getting started. With free 2-day shipping for Prime members and a seemingly endless stream of daily deals, Amazon has everything need to finish crossing things off your Christmas list this year.\\nTo help keep you within your budget this holiday season, we will be scouring the depths of this retail giant every day to bring you the steepest discount on the latest products. If you\\u2019re ready to dive into the savings, we\\u2019ve already found the best Amazon deals for Saturday, December 8. Best Amazon Deals of the Day\\nWe\\u2019ve seen a lot of incredible savings come through the Amazon deals of the day pretty much every day. These one-day sales are some of the best discounts the company has to offer, but they only ever last a full 24 hours, and some will only last as long as they stay in stock. Top brands like Samsung, Dell, and Apple have all sent deals through this pipeline, so you never know what new savings you\\u2019ll see until a new day arrives.\\nHere are today\\u2019s best deals:', '\\n')\n",
      "(u'http://omgili.com/ri/.wHSUbtEfZSZCZo9Q1DrPGnRIhKmERmBEQpaTqM9dIHn.MDyxmDGza6X1XU1s3T3WD_yY1F3Of46qtaJ.0kkKQ--', '\\n')\n",
      "(u'\"The Apple in the World\" - die Pr\\xe4sentationen der Redner auf der Interpoma', '\\n')\n",
      "(u'\"The Apple in the World\" - die Pr\\xe4sentationen der Redner auf der Interpoma Die Pr\\xe4sentationen der Redner auf dem Internationalen Kongress \"The Apple in the World\" (Der Apfel in der Welt), der w\\xe4hrend der Interpoma 2018, in Bozen, Italien, stattfand, sind nun auf der Webseite der Messe zu finden. Foto \\xa9 Interpoma Sie k\\xf6nnen diese hier herunterladen: www.fierabolzano.it/interpoma/ Quelle: Interpoma Den vollst\\xe4ndigen Artikel lesen ...', '\\n')\n",
      "(u'http://omgili.com/ri/.wHSUbtEfZQhH3h8jj7VtxaQjVC_GwJSJU0HEXLGpvBHhuUWZSypRJCL4Ipaetzb9SKSeMYJjUV_b8eo0.0ukG.CK89ZA8ZPkiSXmBoO71QtRCskgKw4TZ.BHamZPtzbmciIN7yX1ZlOe5DoS2zq3v0wBuUn2peNE.4JHG2XbQaLhAhdmRRd8JcnvIy_4STm', '\\n')\n",
      "(u\"Scientific community up in tentacles over Apple's 'upside down' squid emoji\", '\\n')\n",
      "(u'Scientific community up in tentacles over Apple\\'s \\'upside down\\' squid emoji By Wednesday, December 05, 2018, 04:18 pm PT (07:18 pm ET) Apple\\'s artistic decisions have once again landed the company in hot water, this time with scientists who take issue with the tech giant\\'s emoji rendition of a squid. The Monterey Bay Aquarium in a tweet on Wednesday noted Apple\\'s squid emoji is \" upside down .\" More specifically, the siphon \\u2014 used for breathing, excreting waste and locomotion via jet propulsion \\u2014 on Apple\\'s squid is claimed to be located on its \"face\" when it should be positioned on the opposite side of the head. Pun-happy personnel responsible for maintaining the aquarium\\'s Twitter page took umbrage with the squid emoji, suggesting Apple took undue artistic license when it designed the character. \"Not even squidding the siphon should be behind the head [right now] it just looks like a weirdo nose,\" the tweet reads. Indeed, Apple\\'s take is the only emoji to place the siphon, also known as the funnel, on the squid\\'s \"face,\" as revealed in a collection of squid characters aggregated by Emojipedia. The organ is not present on designs in use by Samsung, Microsoft, Facebook and others. Despite the fervor, Apple\\'s version appears to be a faithful rendition of certain squid species. Biological drawings and photographs of dissections readily available online corroborate Apple\\'s siphon placement. Anterior and ventral views of the bilaterally symmetrical animal show the funnel jutting out from beneath the creature\\'s mantle between its eyes, with fin, arm and tentacle locations mirroring those of Apple\\'s emoji. The squid emoji was approved as part of Unicode 9.0 in 2016, and Apple\\'s iteration has not changed since its debut that same year. Topics:', '\\n')\n",
      "(u'http://omgili.com/ri/.wHSUbtEfZTkV2RID6rtlR_FHHlwBhf96JvIS..rY_lhwqcXbVfYShTbjh.FIrTqjf1Nnyh4z3CFVdRIqxo_MNT_Jr8hWYf7dSo5qrxTO.ovg.btpeOapj.2qEqmzzN30B_wePjJAsbK2W1E0y3BiKFPn1tqMj0G', '\\n')\n",
      "(u'Apple Giving \\u2018Increased Scrutiny\\u2019 to Third-Party Screen Time and Parental Control Apps, and more for 12/05/2018', '\\n')\n",
      "(u\"View this email in your browser Deal of the Week:\\nThese AirPod Alternatives are Much More Affordable At Just $24.99 When heading out the door, you do a check of your stuff. Wallet, phone, and keys, but also, you cannot forget your earbuds. If you didn't have them, your workout, your commute, and other aspects of your day would be off. Great earbuds that are lightweight, wireless, and produce great sound are very rare, and the ones that you do find are quite pricey. Get the best value for the best sound at a cost that is a fraction of the competitor's with Air Bud Wireless Bluetooth Earbuds. Get it for $24.99 in the iPhoneHacks Deals Hub Top Stories on iPhoneHacks:\\nApple Giving 'Increased Scrutiny' to Third-Party Screen Time and Parental Control Apps By Evan Selleck on Dec 05, 2018 04:54 pm\\nWith the arrival of iOS 12, Apple introduced Screen Time, a way for iOS users and parents to keep tabs on app usage and time spent on devices. Continue reading \\u2192\\nYou Can Now Use the Shortcuts App to Post to Tumblr By Evan Selleck on Dec 05, 2018 02:05 pm\\nAlong with updates to iOS, macOS, and tvOS, Apple also updated the Siri Shortcuts app to bring some more functionality to the mix, along with plenty of bug fixes. Continue reading \\u2192\\nApple's HomePod Launches in China and Hong Kong in Early 2019 By Evan Selleck on Dec 05, 2018 01:26 pm\\nWhen Apple first announced its first smart speaker, the HomePod, it also confirmed a limited initial release in Australia, the United States, and the United Kingdom. Continue reading \\u2192\\nApple Releases iOS 12.1.1 and tvOS 12.1.1 [Updated] By Evan Selleck on Dec 05, 2018 01:07 pm\\nApple has been seeding developer and public betas of its planned update for its popular platforms, and now the official release is here. Continue reading \\u2192\\nApple Now Selling 18W USB-C Power Adapter for $29 By Evan Selleck on Dec 05, 2018 12:41 pm\\nIt isn\\u2019t just the clear case for the iPhone XR that Apple is adding to its online storefront today. Continue reading \\u2192\\nDeal: Get 2 Months Spotify Premium and Google Home Mini for $0.99 By Rajesh Pandey on Dec 05, 2018 12:33 pm\\nIf you are looking to score a Google Home for cheap, Spotify has you covered. The music streaming provider is giving away free Google Home mini to its Family Plan subscribers for free. But when you make use of Spotify\\u2019s another ongoing promotion, you get an even better deal: 3 months of Spotify Premium and Google Home mini for $0.99. Continue reading \\u2192\\nApple Earns FCC Approval for 'Sleep Monitor' Product By Evan Selleck on Dec 05, 2018 12:02 pm\\nApple may be getting all of its ducks in order for a new product coming down the pipe, which may actually be a refreshed version of a product previously available in the market. Continue reading \\u2192\\nDisk Drill PRO Is Like An Insurance Policy For Your Data [Deals Hub] By Thomas Koshy on Dec 05, 2018 12:00 pm\\nPicture this: a total accident means you lose all your data in the blink of an eye. What if you could ensure that disaster would never happen? Disk Drill PRO protects you from data loss forever for the low price of $29.99. Give yourself the gift of peace of mind with Disk Drill PRO. This genius tool makes recovering documents, music, photos and videos as easy as one push of a button. Just connect your smartphone or storage device to Disk Drill PRO and you ensure that all of your important files will always be safe. Continue reading \\u2192\\nApple is Finally Selling the Clear Case for the iPhone XR By Evan Selleck on Dec 05, 2018 11:31 am\\nEven before the iPhone XR went on sale, there was a report that Apple was planning on launching a clear case for its next colorful smartphone, letting future owners show off that color while protecting the handset. Continue reading \\u2192\\nSteve Jobs Signed 'Macworld #1' Magazine Going up for Auction By Evan Selleck on Dec 05, 2018 10:51 am\\nHolding onto piece of memorabilia can be a lucrative effort, especially for those who aren\\u2019t afraid to spend some money to capture noteworthy moments in history. Continue reading \\u2192\\nRead more at iPhone Hacks Facebook Twitter Google+ iPhoneHacksTV Website iPhoneHacks Daily Newsletter is powered by Mailchimp . Also, we \\xef\\xb8 Mailchimp .\\nCopyright \\xc2\\xa9 2018 iPhoneHacks.com, All rights reserved.\\nThis message was sent to you because you subscribed on our website.\\nOur mailing address is:\\niPhoneHacks.com 14601 N BYBEE LAKE CT STE SG-0592-7972 PORTLAND , OR 97203-6629\\nAdd us to your address book\\nunsubscribe from this list update subscription preferences\\n\", '\\n')\n",
      "(u'http://omgili.com/ri/.wHSUbtEfZR0gge_LMhfmtyUox9kNd2G8P6e8PY0YScQ2jM_xElKbuf6M_8UprmZlWdt9lSBy1Vmz57oy9fPz5xlqyVNWN4ygbmHP1Dnx9H4nBU8M_TLgg--', '\\n')\n",
      "(u'Qualcomm Snapdragon 855: 6 reasons why it will transform Android phones', '\\n')\n",
      "(u'Qualcomm Snapdragon 855: 6 reasons why it will transform Android phones By Sahil Mohan Gupta Dec. 6, 2018, 5:46 a.m. It is the fastest ARM-based mobile system on chip (SoC) in the world\\nWhile Qualcomm announced the Snapdragon 855 mobile platform yesterday at the opening keynote of its annual tech summit, it left out a bunch of details, besides vaguely stating that it is the fastest ARM-based mobile system on chip (SoC) in the world.\\nBut today, on Day 2 of the Snapdragon Summit, Qualcomm has come out with a detailed agenda of what makes this new SoC tick, giving details about its custom Kryo cores, unique AI engine architecture and also its 5G capabilities. Make no mistake, this chipset is a big deal for Qualcomm which is facing threats from Apple\\u2019s court case, regulatory issues and also generally it is being perceived to have lost the mantle of the king of mobile chipsets supplanted by Apple\\u2019s A-line of custom silicon that powers the iPhone.\\nQualcomm has to do better because Android OEMs depend on it, otherwise, there could be others who could take the route that Huawei and Samsung have adopted. This marks an existential crisis for the silicon giant. This is why Qualcomm had Samsung\\u2019s mobile SVP Justin Denison at the event yesterday saying that it would be the first one to deploy a 5G smartphone. Today, they had OnePlus CEO Pete Lau on stage saying that the 2019 OnePlus phone would be the first one to use the Qualcomm Snapdragon 855.\\nTo achieve this leap in performance, Qualcomm has focussed on some key aspects which include connectivity, core CPU performance, the gaming experience, on-device AI and the imaging experience.\\nX50 and X24 modems for breakthrough connectivity\\nThe theme for the Snapdragon 855 has been centred around 5G and for that Qualcomm has deployed the X50 5G modem. But that\\u2019s an optional module which will be made on-device by the OnePlus and Samsung in the UK and the US. For OEMs that don\\u2019t want to go all in on 5G, there is the X24 modem which provides 2 gigabyte LTE. These two modems also become the first in the industry to provide Wi-Fi 6 which uses 8x8 sounding, while utilising less power and being more secure at the same time.\\nIt is also the world\\u2019s first 60Hz Wi-Fi system. In terms of connectivity, the Snapdragon 855 is formidable and there is no SoC in the market which competes with it. This means in 2019, if you\\u2019re a stickler for connectivity, Android phones will be the fastest ones. This is nothing new, it is just that Qualcomm has extended its advantage here.\\nBiggest leap in CPU performance on a Snapdragon\\nQualcomm has evolved the big. Little architecture which has been a facet of ARM-based SoCs for a while.\\nLike Huawei\\u2019s Kirin 980 and the Samsung\\u2019s Exynos 9820, it has moved towards a concept of a prime core which is based on the latest ARM Cortex A76 chips with Qualcomm\\u2019s customisations resulting in Kryo 485 cores. The prime core is clocked at 2.84GHz coupled with three more performance cores based on the same architecture clocked at 2.42GHz.\\nThere are four efficiency cores which max out at 1.84GHz. More so, the entire SoC is manufactured on a 7nm process by TSMC which further improves performance. This results in a 45% boost in performance over the Snapdragon 845 which is the biggest leap in a single generation that Qualcomm has achieved. That being said, this would just about match what Apple has achieved with a more efficient 6 core architecture on the A12 Bionic on the iPhone XS.\\nEvolved gaming experience with faster GPU and Snapdragon Elite gaming\\nThe new Adreno 640 GPU provides a 20% boost over the Adreno 630 in the Snapdragon 845. This alone was quite a big jump, but Qualcomm has doubled down on sustained performance and software-based optimisations which will make gaming on Snapdragon 855 based devices comparable to the iPhone, if not better.\\nThis starts with it being the first processor to support the Vulkan 1.1 API and support for physics-based rendering on games for more realistic graphics. Snapdragon Elite Gaming is also an added boon which makes sure the battery life is better optimised for gaming and that the phones don\\u2019t heat as much during long gaming sessions.\\nMoreover, the entire visual experience on the Snapdragon 855 has been improved with support for 120fps viewing natively supported along with HDR 10 plus support and native support for H.265 and VP9 hardware accelerated codecs. Additionally, the audio experience has been improved with Aptx adaptive and Qualcomm\\u2019s true wireless stereo plus.\\nAI at the heart of the Snapdragon 855\\nOne of the biggest critiques of the previous generation Snapdragon processors was that they had not doubled down or embraced AI the way Apple or Huawei had with their processors. That changes this year.\\nQualcomm always had a software-based DSP in the Hexagon, but this year it has achieved something more powerful and unique with its fourth generation Hexagon 690 DSP. Qualcomm is mimicking the human brain and is using different parts of the SoC which includes the GPU, CPU and the DSP in a dynamic way to provide heterogeneous AI processing. This, of course, comes with mission-specific upgrades to the GPU, CPU, DSP and also includes a dedicated Tensor Flow accelerator which is to speed up on-device machine learning for Google\\u2019s Tensor Flow.\\nThe end result is impressive as Qualcomm claims that the Snapdragon 855 can perform seven trillion operations per second for machine learning which is actually better than the five trillion operations per second on the A12 Bionic at the heart of the iPhone.\\nThis is also 2x better AI performance than Huawei\\u2019s Kirin 980 chip and 3x better than the Snapdragon 845. Qualcomm has also collaborated with Google and optimised the Snapdragon 855 for Google apps including Google lens.\\nA master of computational photography\\nQualcomm has doubled down on the core computational photography capabilities which come natively with the Snapdragon 855. The Spectra 380 becomes the worlds first computer vision hardware ISP. The computer vision pipeline also uses the AI engine, engaging all aspects of the Snapdragon 855.\\nSome of the cool things this facilitates is native Google Pixel 2-like night-mode photography, better depth sensing, speed boost with 4x better performance, support for HDR video with portrait blurs and three cameras providing three fields of view in one image file by utilising the HEIF format with meta-data support adding information for HDR colour, computer vision, depth map details. Even for things like 4K video and HDR video, this chip now consumes 30% less power than the Snapdragon 845.\\nThe most accurate in-display fingerprint scanner\\nOne of the peripheral things that Qualcomm announced was the new 3D sonic sensor which is a new type of in-display fingerprint scanner technology. This is said to be better than the current crop of in-display scanners that you see on phones like the Vivo Nex, OnePlus 6T and the Huawei Mate 20 Pro. Instead of shining a light from beneath the screen, it uses ultrasonic frequencies to authenticate which means it retains accuracy when the finger is wet or dirty. It should also be faster.', '\\n')\n",
      "(u'http://omgili.com/ri/.wHSUbtEfZQW6ZrTLjCI6_SkZ.J0KHQCjVNUtUwGOp6eZI2KZYATbegGQlKfMkAjdf7w5_6mThfp5Nv9pEDEN3VhzIF.BO4s_UooqYWOO9R01l062pCidWh32aZoybfA', '\\n')\n",
      "(u'Siri Shortcuts Not Working Properly For Some iPhone Users', '\\n')\n",
      "(u'It\\u2019s not just you: it appears that Siri Shortcuts have not been working properly for some iPhone users since as early as Tuesday.\\nA small but increasing numbers of users on Twitter and the MacRumors forums claim that they are unable to invoke shortcuts using Siri, including Federico Viticci of MacStories and Rene Ritchie of iMore . The shortcuts still work if executed directly from the Shortcuts app, but not with a Siri voice command.\\nThe issue is not affecting all users, nor is it affecting all apps. Third-party apps appear to be affected more than Apple\\u2019s apps. It also doesn\\u2019t appear to be related to today\\u2019s release of iOS 12.1.1 or Shortcuts version 2.1.2 . Your mileage may vary, so leave us a comment in our forums if you are affected.\\nI\\u2019ve been editing an article all day. But yes, none of my Siri shortcuts are working at the moment and this pretty much sucks. https://t.co/uaqfSSzbXp\\n\\u2014 Federico Viticci (@viticci) December 5, 2018\\nApple seems to be aware and working on a fix.\\nThe tragedy and triumph of Siri triggers being online services\\u2026 https://t.co/k8c66OgZSX\\n\\u2014 Rene Ritchie (@reneritchie) December 5, 2018\\nAs with any cloud-based service interruption, Apple certainly has engineers working on a server-side fix. With the issue now receiving media attention, a fix shouldn\\u2019t be far away. We\\u2019ll update this article when it is implemented.\\nIn the meantime, some users have been able to re-record their Siri Shortcuts phrases to get them working again. To do so, open the Shortcuts app, tap on the three dots on a shortcut, tap on the settings toggle icon below Done in the top-right corner, tap on Siri Phrase, and tap Re-Record Phrase.\\nTags: Siri , Shortcuts Discuss this article in our forums\\nAdvertise on IT Security News.\\nRead the complete article: Siri Shortcuts Not Working Properly For Some iPhone Users\\n', '\\n')\n",
      "(u'http://omgili.com/ri/.wHSUbtEfZTQY.gRDA6k9Whd54VYTLwvaGJAu0JAUf53sNwtR4Z8JFCB_a885tZ355La5ao7E9yYjbWNjxZAyUjyC2SAKbhofPf4SoZnTDpEWcBSr5z4beDuRMF4.pQf', '\\n')\n",
      "(u'Apple Releases Multiple Security Updates', '\\n')\n",
      "(u'Original release date: December 05, 2018\\nApple has released security updates to address vulnerabilities in multiple products. An attacker could exploit some of these vulnerabilities to take control of an affected system.\\nNCCIC encourages users and administrators to review the Apple security pages for the following products and apply the necessary updates:\\niCloud for Windows 7.9 Safari 12.0.2 iTunes 12.9.2 for Windows macOS Mojave 10.14.2, Security Update 2018-003 High Sierra, Security Update 2018-006 Sierra tvOS 12.1.1 iOS 12.1.1 This product is provided subject to this Notification and this Privacy & Use policy.\\nAdvertise on IT Security News.\\nRead the complete article: Apple Releases Multiple Security Updates\\n', '\\n')\n",
      "(u'http://omgili.com/ri/.wHSUbtEfZTQY.gRDA6k9Whd54VYTLwvaGJAu0JAUf4vHM7TlVibrYbUgI.2w7RaPijrZ5NFIxHWNQOLnQ_xnmcb6jp9J9odVDr2.mCNX70-', '\\n')\n",
      "(u'Australia poised to force tech firms to hand over encrypted data', '\\n')\n",
      "(u'Australia poised to force tech firms to hand over encrypted data Wednesday, 5 December 2018 ( 2 hours ago ) Australia\\'s parliament is poised on Thursday to pass laws requiring tech firms such as Alphabet Inc\\'s Google , Facebook and Apple to give police access to private encrypted data linked to suspected illegal activities. Russia plans to impose stiffer fines on technology firms that fail to comply with Russian laws, sources familiar with the plans said, raising the stakes in the Kremlin\\'s fight with global tech giants.. Credit: Reuters Studio - Published Google, Facebook and Amazon are among the biggest companies in the world. Their dominance is worrying for consumers and competition. Here\\'s why. Click here to subscribe to The Economist on YouTube:.. Credit: The Economist - Published Business Insider reports Apple CEO Tim Cook launched a scathing attack on tech companies that hoard \"industrial\" amounts of personal data. Speaking at a privacy conference in Brussels, he said that the.. Credit: Wochit - Published You Might Like Tweets about this Giles W. Crouch RT @marshawright : Australia poised to force tech firms to hand over encrypted data https://t.co/ZkINIb0M2M #news #business #social https://\\u2026 2 minutes ago GainConfidence Australia poised to force tech firms to hand over encrypted data https://t.co/dzWTUtDj0g 5 minutes ago Global News Australia poised to force tech firms to hand over encrypted data https://t.co/1D5kXoCz90 7 minutes ago HEDGELy \\U0001f4f0 Australia poised to force tech firms to hand over encrypted data https://t.co/RT6o79zbl4 7 minutes ago Real Marsha Wright\\xae | Influencer+Marketing Savant Australia poised to force tech firms to hand over encrypted data https://t.co/ZkINIb0M2M #news #business #social https://t.co/Plehcyg09d 7 minutes ago EIN Technology Today Australia poised to force tech firms to hand over encrypted data https://t.co/S5QI5rEvTC 9 minutes ago Raziel \\u05e8\\u05d6\\u05d9\\u05d0\\u05dc Australia poised to force tech firms to hand over encrypted data https://t.co/g0fBq4rXjs 10 minutes ago Mr Lad Australia poised to force tech firms to hand over encrypted data - Reuters ... Australia is 1 of the most Controver\\u2026 https://t.co/RYf4wZ9dr9 11 minutes ago Other recent news in Business', '\\n')\n",
      "(u'http://omgili.com/ri/.wHSUbtEfZRYvNcn2RnUd8hVlA.FngPhF9.uOT2WO0ClR50dejNtC8vMKog3PZCpqbAkqK_VxGMD_DkKnTO7THuZxl5FEoA9wB.25wru_ostUCTtIvcO.Qcr0OoMUKExQMS3cgXXB10-', '\\n')\n",
      "(u'Listen to CLZ on Your Smart Speaker', '\\n')\n",
      "(u'Home \\xbb Uncategorized \\xbb Listen to CLZ on Your Smart Speaker Listen to CLZ on Your Smart Speaker Photo: 98.9 WCLZ\\nThere are lots of ways to listen to CLZ: Listening with Alexa\\nThe best way to listen with Alexa is to enable the free WCLZ skill. To do so, simply say \\u201cAlexa, enable WCLZ\\u201d or visit the WCLZ skill page . Once you\\u2019ve done that, you can say \\u201cAlexa, play WCLZ\\u201d to listen! Listening with Google Home\\nTo listen on your Google Home, simply say, \\u201cOK Google, play WCLZ.\\u201d Listening with Apple HomePod\\nTo listen on your Apple HomePod, download the free TuneIn iOS app , tap the AirPlay button and select your HomePod.\\nPlus, there are lots of other ways to listen too!\\nGood old fashioned radio: Tune to 98.9 FM\\nOnline at 989wclz.com: Click the \\u201cListen Live\\u201d button on the home page\\nSmart Phones and Tablets: Download the Tunein Radio app\\nHappy Listening!', '\\n')\n",
      "(u'http://omgili.com/ri/.wHSUbtEfZSdddfb2BZejjLx2iMdGw26x1nIqLTnDvGET0HGMuUhT3sSs.vojQRoWrkumVYDiZtUEJ2UR0Kizg--', '\\n')\n",
      "(u'Apple Watch Series 2 42mm (Mandarin) $175', '\\n')\n",
      "(u\"model name / number: Apple Watch Gently used 42mm Series 2 Apple Watch Space Gray Aluminum with Black Sport Band Also have Woven Nylon band extra Text me @ nine zero four three two seven eight seven nine five it's ok to contact this poster with services or other commercial interests post id: 6765841658\", '\\n')\n",
      "(u'http://omgili.com/ri/.wHSUbtEfZRoNfHa32JSeMV6cBTgV0rwpcp6ikJvuqkWEYm0.C1Cj2_npOS._d4VVctOgzBozCRXPy1U42gpKb7mLG4j6Oj.ngIH3TrcyDMr0RDPTfK6_w--', '\\n')\n"
     ]
    }
   ],
   "source": [
    "for feed in feeds_read_from_file[:10]:\n",
    "    print(feed['title'], '\\n')\n",
    "    print(feed['text'], '\\n')\n",
    "    print(feed['url'], '\\n')\n",
    "#print(feeds_read_from_file[0]['title'])"
   ]
  },
  {
   "cell_type": "code",
   "execution_count": null,
   "metadata": {},
   "outputs": [],
   "source": []
  }
 ],
 "metadata": {
  "kernelspec": {
   "display_name": "Python 3",
   "language": "python",
   "name": "python3"
  },
  "language_info": {
   "codemirror_mode": {
    "name": "ipython",
    "version": 3
   },
   "file_extension": ".py",
   "mimetype": "text/x-python",
   "name": "python",
   "nbconvert_exporter": "python",
   "pygments_lexer": "ipython3",
   "version": "3.7.1"
  }
 },
 "nbformat": 4,
 "nbformat_minor": 2
}
