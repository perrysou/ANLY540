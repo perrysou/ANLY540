{
 "cells": [
  {
   "cell_type": "code",
   "execution_count": 1,
   "metadata": {},
   "outputs": [],
   "source": [
    "import webhoseio"
   ]
  },
  {
   "cell_type": "code",
   "execution_count": 2,
   "metadata": {},
   "outputs": [],
   "source": [
    "webhoseio.config(token=\"2c45808b-852d-4156-af2f-faf960992ea9\")\n",
    "query_params = {\"q\": \"organization:Apple\",\n",
    "                \"sort\": \"crawled\"}"
   ]
  },
  {
   "cell_type": "code",
   "execution_count": 3,
   "metadata": {},
   "outputs": [
    {
     "name": "stdout",
     "output_type": "stream",
     "text": [
      "El gran hackeo: Así es como China utilizó un pequeño chip para infiltrarse en Apple y Amazon 2 horas ago\n",
      "2018-10-04T20:03:00.000+03:00\n",
      "economexico.com\n"
     ]
    }
   ],
   "source": [
    "output = webhoseio.query(\"filterWebContent\", query_params)\n",
    "print(output['posts'][0]['text']) # Print the text of the first post\n",
    "print(output['posts'][0]['published']) # Print the text of the first post publication date\n",
    "\n",
    "# Print the site of the first post\n",
    "\n",
    "print(output['posts'][0]['thread']['site'])"
   ]
  },
  {
   "cell_type": "code",
   "execution_count": 4,
   "metadata": {},
   "outputs": [
    {
     "name": "stdout",
     "output_type": "stream",
     "text": [
      "100\n"
     ]
    }
   ],
   "source": [
    "feeds = []\n",
    "for item in output['posts']:\n",
    "    feeds.append(item)\n",
    "    #print(item['title'])\n",
    "\n",
    "print(len(feeds))"
   ]
  },
  {
   "cell_type": "code",
   "execution_count": 9,
   "metadata": {},
   "outputs": [
    {
     "name": "stdout",
     "output_type": "stream",
     "text": [
      "10000\n"
     ]
    }
   ],
   "source": [
    "count = 100\n",
    "while count > 0:    \n",
    "    output = webhoseio.get_next()\n",
    "    for item in output['posts']:\n",
    "        feeds.append(item)\n",
    "    count -= 1\n",
    "#     if len(feeds) > 10000:\n",
    "#         break\n",
    "# feeds = feeds[:10000]\n",
    "print(len(feeds))"
   ]
  },
  {
   "cell_type": "code",
   "execution_count": 6,
   "metadata": {},
   "outputs": [],
   "source": [
    "import json\n",
    "with open(\"anly540_apple.json\", \"w\") as myfile:\n",
    "    for feed in feeds:\n",
    "        line = json.dumps(feed)\n",
    "        myfile.write(line)\n",
    "        myfile.write(\"\\n\")"
   ]
  },
  {
   "cell_type": "code",
   "execution_count": 7,
   "metadata": {},
   "outputs": [
    {
     "name": "stdout",
     "output_type": "stream",
     "text": [
      "5816\n"
     ]
    }
   ],
   "source": [
    "json_data = open(\"anly540_apple.json\").readlines()\n",
    "feeds_read_from_file = []\n",
    "for line in json_data:\n",
    "    feeds_read_from_file.append(json.loads(line))\n",
    "print(len(feeds_read_from_file))"
   ]
  },
  {
   "cell_type": "code",
   "execution_count": 8,
   "metadata": {},
   "outputs": [
    {
     "name": "stdout",
     "output_type": "stream",
     "text": [
      "El gran hackeo: Así es como China utilizó un pequeño chip para infiltrarse en Apple y Amazon \n",
      "\n",
      "El gran hackeo: Así es como China utilizó un pequeño chip para infiltrarse en Apple y Amazon 2 horas ago \n",
      "\n",
      "http://omgili.com/ri/.wHSUbtEfZRinY1EvmxOv9H_QgEHSopVVjrU9NuGPvgkLmlLbzJgoWDqm2oBgVsDwIYZ8t14urtiR84aHexJ9OCynfoHAje1hcfFeFb4_j5_4KiohgwwFa_xkMFcOwkDwXazpOi.q4iv_8NIbzu24auEry0UpMcBcOhpTZmGlXg- \n",
      "\n",
      "Apple Investigating Ultrasound Tech to Improve Apple Pencil and Touchscreens \n",
      "\n",
      "\n",
      "Apple patents aren’t necessarily a direct indication of what’s coming down the line from the company, but it’s always fun to take a look at what Apple has been toying with at one point or another.\n",
      "Continue reading →\n",
      " \n",
      "\n",
      "http://omgili.com/ri/jHIAmI4hxg8bKx39N2UnWMNF6svSPD6y6NE4bTpfiVwsJsahJyIiMFknArecPoWN97uoT9xW_AoPidf0NLqVGZ4fbMqCMd9I82FJaziqvsv9Azpk2Y8CmE.HKpw7BoE.T3_EXCTuA1WRjROD.wHekpm_3GiOkdVA \n",
      "\n",
      "Web Developer Intern - Bahrain \n",
      "\n",
      "Going through the process of website developing from the concept of ideation to delivery. Coding and modifying websites, from layout to function and according to client's specifications. Create visually appealing sites that feature user-friendly design and clear navigation. Produce fully functional programs writing clean, testable code. Work on designing, coding building apps for Google's Android, Apple's iOS. Have some background for popular CMS such as Wordpress.\n",
      "The intern will learn: A new work culture and environment will test your skills to be solution-oriented and adaptable to overcome challenges and uncertainty. Exposure to a different country will open up awareness of global issues and empower you to become more of a world citizen. Working abroad will allow you to find your values, explore your passions, and become more self-aware.\n",
      "Application Deadline : after 20 days\n",
      "Internship Start date : 1st Feb\n",
      "Duration : 12 weeks \n",
      "\n",
      "http://omgili.com/ri/.wHSUbtEfZQTKtctguhP2.h4YK4R6rP141R4tpsKCfOicasVzd5vyEtWnTr19ghA8zw8ETsgsbUTihYjrtq.A6.af1dMhyuDM_HMLhb4vmptEAxXW5omzAGS7WLS9MO_4tzIfBZ9Khk- \n",
      "\n",
      "Nintendo Switch update: Second version of console could be released next year, report claims \n",
      "\n",
      "Nintendo is planning an update to the Switch, according to new reports.The new console is likely to arrive next year, the Wall Street Journal said. But beyond that details remain murky.The Switch was first released in March of last year. The new update is being planned for the second half 2019 and could come as soon as the summer, according to the WSJ.It isn't clear what updates the new version of the console would bring. But chief among them is likely to be a new screen: the first Switch, while broadly praised, drew some criticism for the quality of the display.Nintendo is said to be avoiding the OLED technology that is used in Apple's new iPhones and which can give improved performance and rich blacks. But it could improve to the more detailed LCD screens on other recent handsets.That uncertainly might partly be because Nintendo itself isn't exactly clear what the new console might look like.If it does arrive, it's likely that it will follow the lead of recent new consoles like the PS4 Pro and Xbox One X – adding new features and improving specs, while staying on the same generation and allowing players to bring games and friends over. Nintendo has already done that in the past, repeatedly updating the Nintendo 3DS after it was first released. \n",
      "\n",
      "http://omgili.com/ri/jHIAmI4hxg_kNOYMWIthylTUGkFjTM60GEnuE17JYp1t1tlYZJR6FwXI8PgbUcFYY7xRHCoCGedZiCbrsE3sLTlG4_Bdv914aTiKZmf9Z1nuNN9eDPNqXZLgc3Z0lAIa.X1JVvW8jH6vtZ6nNQe4VV1rwtV8z_AtyGanQ9W0FGXHx0RdII9GcsPKZFcCx1FG \n",
      "\n",
      "Apple, Amazon deny Bloomberg report on Chinese hardware attack \n",
      "\n",
      "Apple Inc and Amazon denied a Bloomberg report on Thursday that their systems contained malicious computer chips inserted by Chinese intelligence, statements from the tech companies released separately by Bloomberg showed. \n",
      "\n",
      "http://omgili.com/ri/.wHSUbtEfZS99qQBXA1ahayM0ZcvqxhMLtjcdt6xcdmQCJLmP11_ChgElhuuZz52kqpDP1TTdxVWvppM_alFNQ3zcEhqLaZGIQfN_cV402fIzLEfnkR9C21_gsKbjgy8DeD9w7KQudS2Cl4zOV2SDDGY5M2HnhAL5TeuCOtSSZg- \n",
      "\n",
      "Google’s Emergency Location Service Improves 911 Response \n",
      "\n",
      "Google’s Emergency Location Service Improves 911 Response\n",
      "Google is making a small but pivotal change as it relates to calls placed to 911 operators. Having recently finalized a complex partnership with RapidSOS and West (two emergency technology companies) and T-Mobile, Google will now send location data from its \"Emergency Location Service\" when an Android user places a 911 call.\n",
      "If the caller is a T-Mobile customer, the information will be passed along via the carrier. Where 911 call centers use RapidSOS, Google will send the location data via the technology company. In the US Virgin Islands, Google has made the same arrangement with the Emergency Tech company, West.\n",
      "While the announcement may raise some surprised eyebrows, the change has been in the works for more than a year. Google has spent much of that time testing. Their findings were that the location data Google sent over was more accurate and arrived more quickly than the data the 911 call centers had been getting previously.\n",
      "Not to be outdone, Apple announced in June of this year that it was developing a similar service for iOS users, and that beginning with iOS 12, Apple devices would automatically send location data to emergency call centers when users dial 911.\n",
      "Even privacy advocates agree that this is generally a good move, and it's one of the growing number of instances where smart use of technology can save lives. Anything we can do to give our nation's emergency call centers an edge is an important change. Currently, those call centers take an average of 140,000 calls a day, so this is by no means a trivial issue.\n",
      "Kudos to both Google and Apple for taking bold action on this issue. While we may not like the idea of having our location data shared, in this particular instance, it certainly seems like a smart play.  \n",
      "\n",
      "http://omgili.com/ri/.wHSUbtEfZQZnOF.ivY6iRsUUjoYcrxNyNPrMaq9.fmpj7Wr8tj8O30U.1FhrKVdI9HMr4Gd_zUKF4fUsm6XiublI8kRGtCoM10_IHgxzA5Wm8_4pZewOLrsNhuStdus \n",
      "\n",
      "Apple Watch Series 3 GPS + Cellular, 42mm $120 \n",
      "\n",
      "favorite this post Apple Watch Series 3 GPS + Cellular, 42mm - $120 hide this posting unhide < image 1 of 3 > condition: excellent QR Code Link to This Post Beautiful stainless steel with white band in excellent condition! Includes original box and two additional bands in black and grey! - Includes original box, packaging, charger, white sports band along with black and grey sports band! - 48mm size- Heart rate sensor, GPS, barometric altimeter, and additional sensors - Water resistant to 50 meters carolee488gmailcom do NOT contact me with unsolicited services or offers post id: 6712605510 \n",
      "\n",
      "http://omgili.com/ri/.wHSUbtEfZQp7GwQEDLEY68G87mfiJKzd.VRfSL2ZYvwOdOp3WulcXGR76FcchZgZkwYiV38xoEr3l.pM3YGhbYGiJtKLVlZEFYMSZJezIEZPKFqb7Z5sw-- \n",
      "\n",
      "Stocks - Wall Street Stumbles at Open as Bond Yields Keep Rising \n",
      "\n",
      "Bond yields continued to climb as stocks opened lower. More Investing.com - Stocks opened in the red Thursday as bond yields continued to climb, denting dividend-paying equities, and tech saw some weakness.\n",
      "The Dow fell 65.68, or 0.24%, to 26,762.71, while the broader S&P 500 index lost 9.09, or 0.31%, to 2,916.42. The tech-heavy Nasdaq composite was down 65.61, or 0.82%, to 7,959.47.\n",
      "The selloff in Treasuries persisted, pushing the yield on the 10-year closer to 3.2% as economic data continued to show a strong economy.\n",
      "Initial jobless claims fell last week , near a 49-year low, in harmony with other recent numbers that showed a tight labor market ahead of the nonfarm payrolls report Friday .\n",
      "Higher yields will put pressure on utility and telecom stocks, as their dividends become less attractive.\n",
      "Meanwhile, tech struggled as heavyweights Apple (NASDAQ:AAPL) and Amazon (NASDAQ:AMZN) dipped on a Bloomberg report China had planted malicious chips in their systems. Both companies denied the report .\n",
      "Snap (NYSE:SNAP) fell nearly 4% after Citi lowered its price target on the stock to $7, while maintaining a sell rating, noting increasing competition, StreetInsider reported.\n",
      "Elsewhere, Barnes & Noble (NYSE:BKS) stock jumped 26% after the struggling bookstore chain announced it was open to a takeover.\n",
      "And Constellation Brands (NYSE:STZ) gained 5% after its earnings came in higher than expected.\n",
      "In Europe, stocks were mixed. Germany’s DAX rose 0.5%, while in France the CAC 40 fell 1% and in London, the FTSE 100 was down 0.8%. Meanwhile the pan-European Euro Stoxx 50 ganed 0.3%.\n",
      "In commodities, gold futures rose 0.32% to $1,206.80 a troy ounce, while crude oil futures fell 0.68% to $75.89 a barrel. The U.S. dollar index, which measures the greenback against a basket of six major currencies, was flat at 95.77.\n",
      "Related Articles\n",
      "Lilly's diabetes drug data impresses, hurts rival Novo's shares\n",
      "U.S. plans to rewrite rules that impede self-driving cars\n",
      "Wall St. slips at open as bond yields climb \n",
      "\n",
      "http://omgili.com/ri/.wHSUbtEfZThiio0hiTRCuDRHUBYjhYkz76hdVbbXrzzHj9zUgBZQznqjeeYQEgN71SDfFFTle3ytLq_kNB8e_rDJcPf_SMJoQOBtljfSls- \n",
      "\n",
      "Supermicro Refutes Claims in Bloomberg Article \n",
      "\n",
      "SAN JOSE, Calif. , Oct. 4, 2018 /PRNewswire/ -- Super Micro Computer, Inc. (SMCI) , a global leader in enterprise computing, storage, networking solutions and green computing technology, strongly refutes reports that servers it sold to customers contained malicious microchips in the motherboards of those systems.\n",
      "In an article today, it is alleged that Supermicro motherboards sold to certain customers contained malicious chips on its motherboards in 2015. Supermicro has never found any malicious chips, nor been informed by any customer that such chips have been found.\n",
      "Each company mentioned in the article (Supermicro, Apple, Amazon and Elemental) has issued strong statements denying the claims:\n",
      "Apple stated on CNBC, \"We are deeply disappointed that in their dealings with us, Bloomberg's reporters have not been open to the possibility that they or their sources might be wrong or misinformed. Our best guess is that they are confusing their story with a previously reported 2016 incident in which we discovered an infected driver on a single Supermicro server in one of our labs. That one-time event was determined to be accidental and not a targeted attack against Apple.\"\n",
      "Steve Schmidt , Chief Information Security Officer at Amazon Web Services stated, \"As we shared with Bloomberg BusinessWeek multiple times over the last couple months, at no time, past or present, have we ever found any issues relating to modified hardware or malicious chips in Supermicro motherboards in any Elemental or Amazon systems.\"\n",
      "Supermicro has never been contacted by any government agencies either domestic or foreign regarding the alleged claims.\n",
      "Supermicro takes all security claims very seriously and makes continuous investments in the security capabilities of their products. The manufacture of motherboards in China is not unique to Supermicro and is a standard industry practice. Nearly all systems providers use the same contract manufacturers. Supermicro qualifies and certifies every contract manufacturer and routinely inspects their facilities and processes closely.\n",
      "Follow Supermicro on Facebook and Twitter to receive their latest news and announcements.\n",
      "About Super Micro Computer, Inc. (SMCI) Supermicro, the leading innovator in high-performance, high-efficiency server technology is a premier provider of advanced Server Building Block Solutions for Data Center, Cloud Computing, Enterprise IT, Hadoop/Big Data, HPC and Embedded Systems worldwide. Supermicro is committed to protecting the environment through its \"We Keep IT Green\" initiative and provides customers with the most energy-efficient, environmentally-friendly solutions available on the market.\n",
      "Supermicro, Server Building Block Solutions, and We Keep IT Green are trademarks and/or registered trademarks of Super Micro Computer, Inc.\n",
      "All other brands, names and trademarks are the property of their respective owners.\n",
      "SMCI-F\n",
      "SOURCE Super Micro Computer, Inc.\n",
      "Related Links http://www.supermicro.com \n",
      "\n",
      "http://omgili.com/ri/.wHSUbtEfZS76VDaDFrrEZfSg47lFq8qPXBVcIHVr9Y8Vhh_35NwoEejZqB11i7ZhY4utEFvZ_8vnuBRuG6lzB0I3HNdLoyG_vCYsWpCi_nlgnePeVGtABQr1kroRG0nTYQs_gVeqXI- \n",
      "\n",
      "Deal: 2018 MacBook Pro Discounted by $300; 2017 Models Starting from $1,499 \n",
      "\n",
      "Deal: 2018 MacBook Pro Discounted by $300; 2017 Models Starting from $1,499 Posted by Rajesh Pandey on Oct 04, 2018 in Deals , iPhone Xs\n",
      "Looking to buy a new MacBook Pro? You are in luck as B&H is hosting one of the best sales on Apple products that you will find during this time of the year. Depending on the model you buy, you are looking at discounts of up to $700.\n",
      "Most of the deals are on Apple’s older 2017 MacBook Pro lineup but if you don’t really need the additional horsepower, these are some good deals. Check out some of the best deals from B&H below. 13.3-inch MacBook Pro 3.1GHz Core i5, 8GB RAM, Touch Bar, 256GB SSD (Mid-2017) – $1,799 -> $1,499 – This is the cheapest MacBook Pro you can find as a part of this deal. 3.5GHz Core i7, 16GB RAM, Touch Bar, 1TB SSD (Mid-2017) – $2,899 -> $2,299 15-inch MacBook Pro 2.8GHz Core i7 Quad-Core, 16GB RAM, Radeon Pro 560, 256GB SSD (Mid 2017) – $2,499 -> $1,899 2.9GHz Core i7 Quad-Core, 16GB RAM, Radeon Pro 560, 512GB SSD (Mid 2017) – $2,799 -> $2,149 3.1GHz Core i7 Quad-Core, 16GB RAM, Radeon Pro 560, 1TB SSD (Mid 2017) – $3,339 -> $2,699\n",
      "Make sure to check out all the deals from B&H on Apple’s MacBook Pro lineup . 2018 MacBook Pro Deals\n",
      "Adorama is giving some nice discounts on the mid-2018 MacBook Pro variants. The discounts are not as good as what B&H is offering but then you are getting a more powerful and newer machine here . All the deals below are for the 15-inch MacBook Pro. 2.2GHz Core i7 Hexa-core, 16GB RAM, Radeon Pro 555X, 256GB SSD (Mid 2018) – $2,399 -> $2,099 2.9GHz Core i9 Hexa-core, 32GB RAM, Radeon Pro 555X, 1TB SSD (Mid 2018) – $3,799 -> $3,499\n",
      "Adorama is also offering discounts on some older MacBook Pro variants so make sure to check its website for all the deals .\n",
      "Which MacBook Pro are you planning to pick thanks to the discounts above? Drop a comment and let us know! Like this post? Share it! Share Subscribe to iPhoneHacks Daily Newsletter\n",
      "Sign up for our iPhoneHacks Daily newsletter to get the top Apple news stories delivered to your inbox. Featured Stories \n",
      "\n",
      "http://omgili.com/ri/jHIAmI4hxg90FqjzWj6mpEjYn2oOY5cFgfkpgXWnJD3HCZxKg0rdXB_wAf2joqe3ip4nzfXNW08VhPQUhCdxpXGqbSnlHpA6.XV20jOWUDU- \n",
      "\n"
     ]
    }
   ],
   "source": [
    "for feed in feeds_read_from_file[:10]:\n",
    "    print(feed['title'], '\\n')\n",
    "    print(feed['text'], '\\n')\n",
    "    print(feed['url'], '\\n')\n",
    "#print(feeds_read_from_file[0]['title'])"
   ]
  },
  {
   "cell_type": "code",
   "execution_count": null,
   "metadata": {},
   "outputs": [],
   "source": []
  }
 ],
 "metadata": {
  "kernelspec": {
   "display_name": "Python 3",
   "language": "python",
   "name": "python3"
  },
  "language_info": {
   "codemirror_mode": {
    "name": "ipython",
    "version": 3
   },
   "file_extension": ".py",
   "mimetype": "text/x-python",
   "name": "python",
   "nbconvert_exporter": "python",
   "pygments_lexer": "ipython3",
   "version": "3.6.5"
  }
 },
 "nbformat": 4,
 "nbformat_minor": 2
}
