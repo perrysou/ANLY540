{
 "cells": [
  {
   "cell_type": "code",
   "execution_count": 1,
   "metadata": {},
   "outputs": [],
   "source": [
    "import webhoseio, os\n",
    "from sklearn.feature_extraction.text import CountVectorizer\n",
    "from sklearn.decomposition import LatentDirichletAllocation\n",
    "import nltk, re\n",
    "from nltk.stem.wordnet import WordNetLemmatizer\n",
    "\n",
    "stopwords = set(nltk.corpus.stopwords.words('english'))"
   ]
  },
  {
   "cell_type": "code",
   "execution_count": 2,
   "metadata": {},
   "outputs": [],
   "source": [
    "webhoseio.config(token=\"2c45808b-852d-4156-af2f-faf960992ea9\")\n",
    "query_params = {\n",
    "    \"q\": \"organization:Tesla\",\n",
    "    \"ts\": \"1523748602856\",\n",
    "    \"sort\": \"crawled\"\n",
    "}"
   ]
  },
  {
   "cell_type": "code",
   "execution_count": 3,
   "metadata": {},
   "outputs": [],
   "source": [
    "output = webhoseio.query(\"filterWebContent\", query_params)"
   ]
  },
  {
   "cell_type": "code",
   "execution_count": 4,
   "metadata": {},
   "outputs": [
    {
     "name": "stdout",
     "output_type": "stream",
     "text": [
      "Elon Musk just mocked the SEC on Twitter after he was forced to pay $20 million in fines to the agency|||2018-10-04T23:57:00.000+03:00\n",
      "Tesla CEO Elon Musk mocks SEC as 'Short-Seller Enrichment Commission'|||2018-10-04T23:50:00.000+03:00\n",
      "Tesla CEO Elon Musk apparently rips SEC after deal: 'Shortseller Enrichment Commission'|||2018-10-04T23:54:00.000+03:00\n",
      "Mark Cuban Prodded Tesla’s Musk to Settle SEC Charges|||2018-10-04T22:33:00.000+03:00\n",
      "Elon Musk Doesn't Take SEC Seriously|||2018-10-05T00:06:00.000+03:00\n",
      "Tesla CEO Elon Musk apparently rips SEC after deal: andapos;Shortseller Enrichment Commissionandapos;|||2018-10-04T23:54:00.000+03:00\n",
      "Elon Musk Doesn't Take SEC Seriously|||2018-10-05T00:06:00.000+03:00\n",
      "Musk takes swipe at SEC on heels of fraud settlement|||2018-10-05T00:14:00.000+03:00\n",
      "Tesla CEO Elon Musk apparently rips SEC after deal: andapos;Shortseller Enrichment Commissionandapos;|||2018-10-04T23:54:00.000+03:00\n",
      "Elon Musk Doesn't Take SEC Seriously|||2018-10-05T00:06:00.000+03:00\n",
      "Musk takes swipe at SEC on heels of fraud settlement|||2018-10-04T12:08:00.000+03:00\n",
      "Musk takes swipe at SEC on heels of fraud settlement|||2018-10-05T00:08:00.000+03:00\n",
      "Company: Tesla boss Musk continues to provoke US Securities Exchange on Twitter|||2018-10-05T00:34:00.000+03:00\n",
      "Musk takes swipe at SEC on heels of fraud settlement|||2018-10-04T19:08:00.000+03:00\n",
      "Musk takes swipe at SEC on heels of fraud settlement|||2018-10-05T00:14:00.000+03:00\n",
      "Tesla CEO Elon Musk apparently rips SEC after deal: andapos;Shortseller Enrichment Commissionandapos;|||2018-10-04T23:54:00.000+03:00\n",
      "Elon Musk Doesn't Take SEC Seriously|||2018-10-05T00:06:00.000+03:00\n",
      "Musk takes swipe at SEC on heels of fraud settlement|||2018-10-05T00:15:00.000+03:00\n",
      "Musk takes swipe at SEC on heels of fraud settlement|||2018-10-05T00:14:00.000+03:00\n",
      "Musk takes swipe at SEC on heels of fraud settlement|||2018-10-04T03:00:00.000+03:00\n",
      "News Highlights : Top Company News of the Day|||2018-10-04T03:00:00.000+03:00\n",
      "Musk takes swipe at SEC on heels of fraud settlement|||2018-10-05T00:08:00.000+03:00\n",
      "Elon Musk Doesn't Take SEC Seriously|||2018-10-05T00:06:00.000+03:00\n",
      "Next Gen Tesla Roadster Caught In The Wild - How Soon Until Porsche Feels the Heat?|||2018-10-04T19:37:00.000+03:00\n",
      "Elon Musk trolls SEC on Twitter, doubles down, SEC agreement not done deal|||2018-10-05T00:56:00.000+03:00\n",
      "Musk takes swipe at SEC on heels of fraud settlement|||2018-10-05T05:08:00.000+03:00\n",
      "Elon Musk taunts SEC with tweet days after fraud settlement|||2018-10-05T01:10:00.000+03:00\n",
      "Musk takes swipe at SEC on heels of fraud settlement|||2018-10-04T20:08:00.000+03:00\n",
      "Elon Musk trolls SEC on Twitter, doubles down, SEC agreement not done deal|||2018-10-05T00:56:00.000+03:00\n",
      "Musk takes swipe at SEC on heels of fraud settlement|||2018-10-05T00:08:00.000+03:00\n",
      "Mark Cuban Prodded Tesla's Musk to Settle SEC Charges|||2018-10-04T23:50:00.000+03:00\n",
      "Elon Musk taunts SEC days after fraud settlement|||2018-10-05T05:29:00.000+03:00\n",
      "Elon Musk Mocks SEC on Twitter: ‘Shortseller Enrichment Commission’|||2018-10-05T00:13:00.000+03:00\n",
      "Tesla’s first Autopilot safety report is short on details|||2018-10-04T20:16:00.000+03:00\n",
      "Musk takes swipe at SEC on heels of fraud settlement|||2018-10-05T01:00:00.000+03:00\n",
      "Mark Cuban Prodded Tesla’s Musk to Settle SEC Charges|||2018-10-04T22:33:00.000+03:00\n",
      "Elon Musk just mocked the SEC on Twitter after he was forced to pay $20 million in fines to the agency (TSLA)|||2018-10-04T18:41:00.000+03:00\n",
      "Check Out This Range-Extending Toyota-Tesla Trailer|||2018-10-05T02:24:00.000+03:00\n",
      "Tesla's Musk mocks US agency just days after settling with it|||2018-10-05T01:22:00.000+03:00\n",
      "Tesla's Musk mocks US agency days after settling|||2018-10-05T11:09:00.000+03:00\n",
      "Tesla shares fall after Elon Musk taunts US markets regulator on Twitter|||2018-10-05T00:05:00.000+03:00\n",
      "Elon Musk Mocks SEC on Twitter: ‘Shortseller Enrichment Commission’|||2018-10-04T21:13:00.000+03:00\n",
      "Elon Musk just mocked the SEC on Twitter after he was forced to pay $20 million in fines to the agency (TSLA)|||2018-10-04T16:41:00.000+03:00\n",
      "Elon Musk: Tesla boss mocks US regulator days after settlement|||2018-10-05T03:32:00.000+03:00\n",
      "Tesla's Musk mocks US agency just days after settling with it|||2018-10-05T10:08:00.000+03:00\n",
      "Elon Musk: Tesla boss mocks US regulator days after settlement|||2018-10-05T03:25:00.000+03:00\n",
      "Elon Musk is trolling the SEC on Twitter|||2018-10-05T02:20:00.000+03:00\n",
      "Tesla CEO Elon Musk apparently rips SEC after deal: 'Shortseller Enrichment Commission'|||2018-10-05T03:29:00.000+03:00\n",
      "Musk Taunts SEC as 'Shortseller Enrichment Commission'|||2018-10-05T00:41:00.000+03:00\n",
      "essay writing|||2018-10-05T03:58:00.000+03:00\n",
      "essay writing|||2018-10-05T03:58:00.000+03:00\n",
      "Tesla’s Musk mocks US agency just days after settling with it|||2018-10-05T02:40:00.000+03:00\n",
      "essay writing|||2018-10-05T03:58:00.000+03:00\n",
      "Morgan Stanley Reiterates $291.00 Price Target for Tesla (NASDAQ:TSLA)|||2018-10-05T05:46:00.000+03:00\n",
      "Elon Musk Taunts SEC on Twitter, Says Short Selling ‘Should Be Illegal’|||2018-10-05T04:07:00.000+03:00\n",
      "Elon Musk is trolling the SEC on Twitter|||2018-10-05T00:31:00.000+03:00\n",
      "Tesla's Musk mocks US agency just days after settling with it|||2018-10-04T19:10:00.000+03:00\n",
      "Elon Musk: Tesla boss mocks US regulator days after settlement|||2018-10-05T03:00:00.000+03:00\n",
      "Elon Musk Gives the SEC a New Name|||2018-10-04T23:40:00.000+03:00\n",
      "Tesla's Musk mocks US agency just days after settling with it|||2018-10-05T05:12:00.000+03:00\n",
      "Tesla’s Musk mocks SEC just days after settlement|||2018-10-04T18:25:00.000+03:00\n",
      "Tesla CEO Elon Musk apparently rips SEC after deal: 'Shortseller Enrichment Commission' | newscentermaine.com|||2018-10-04T03:00:00.000+03:00\n",
      "Tesla's Elon Musk Mocks US Regulator Hours After Securities Fraud Settlement|||2018-10-05T08:08:00.000+03:00\n",
      "Elon Musk Tweets Swipe at SEC on Heels of Fraud Settlement That Allowed Him to Remain Tesla CEO|||2018-10-05T07:57:00.000+03:00\n",
      "Tesla's Musk mocks US agency just days after settling with it|||2018-10-05T03:00:00.000+03:00\n",
      "Elon Musk was fined by the SEC for a tweet – so he mocks the SEC in a tweet|||2018-10-05T03:00:00.000+03:00\n",
      "Are billionaires’ space travel plans out of touch with reality?|||2018-10-05T00:21:00.000+03:00\n",
      "Tesla’s Musk mocks US agency just days after settling with it|||2018-10-05T04:34:00.000+03:00\n",
      "Elon Musk mocks US agency just days after settling with it|||2018-10-05T06:32:00.000+03:00\n",
      "Musk takes swipe at SEC on heels of fraud settlement | KSBY.com|||2018-10-04T03:00:00.000+03:00\n",
      "Musk takes swipe at SEC on heels of fraud settlement | LEX18.com|||2018-10-04T03:00:00.000+03:00\n",
      "Elon Musk: Tesla boss mocks US regulator days after settlement - BBC News|||2018-10-05T03:00:00.000+03:00\n",
      "AFP/File / DAVID MCNEW Tesla Chief Executive Elon Musk has d|||2018-10-05T03:00:00.000+03:00\n",
      "Tesla's Musk mocks US agency just days after settling with it|||2018-10-05T09:40:00.000+03:00\n",
      "Aspark Now Accepting Orders For Its 1,150 HP, $3.6 Million All-Electric Hypercar|||2018-10-05T10:45:00.000+03:00\n",
      "Tesla shares drop after analysts worry about China trade war risk|||2018-10-05T02:00:00.000+03:00\n",
      "Tesla's Musk mocks US agency just days after settling with it|||2018-10-05T10:08:00.000+03:00\n",
      "Musk mocks regulator days after settlement|||2018-10-05T14:18:00.000+03:00\n",
      "Benchmark Comments on the Surge in Vanadium and Vanadium Redox Flow Batteries|||2018-10-05T09:44:00.000+03:00\n",
      "Tesla's Elon Musk Mocks US Regulator Hours After Securities Fraud Settlement|||2018-10-05T08:06:00.000+03:00\n",
      "Musk and the proposed ban on shortsellers|||2018-10-05T08:43:00.000+03:00\n",
      "Tesla's Musk mocks US agency just days after settling with it|||2018-10-05T10:46:00.000+03:00\n",
      "Tesla CEO Musk mocks SEC on Twitter after fraud lawsuit|||2018-10-04T21:42:00.000+03:00\n",
      "Musk takes swipe at SEC on heels of fraud settlement | KOAA.com|||2018-10-04T03:00:00.000+03:00\n",
      "Tesla shares fall after Musk mocks SEC on Twitter|||2018-10-05T14:20:00.000+03:00\n",
      "Tesla shares fall after Musk mocks SEC on Twitter|||2018-10-05T15:16:00.000+03:00\n",
      "Tesla shares fall after Musk mocks SEC on Twitter|||2018-10-05T15:01:00.000+03:00\n",
      "Tesla shares fall after Musk mocks SEC on Twitter|||2018-10-05T14:01:00.000+03:00\n",
      "Tesla shares fall after Musk mocks SEC on Twitter|||2018-10-05T14:16:00.000+03:00\n",
      "The Week in News: September 29th - October 5th|||2018-10-05T14:04:00.000+03:00\n",
      "A judge could yet tear up Elon Musk’s settlement with the SEC|||2018-10-05T13:04:00.000+03:00\n",
      "New Energy Vehicle Market 2018 Global Key Players – GS Yuasa, Samsung, GM, Hitachi, TESLA - Analysis and Forecast to 2023|||2018-10-05T14:59:00.000+03:00\n",
      "Tesla’s first safety report claims drivers on Autopilot are safer, but lacks detail | Give Info|||2018-10-05T03:00:00.000+03:00\n",
      "Tesla shares fall after Musk mocks SEC on Twitter|||2018-10-05T14:20:00.000+03:00\n",
      "Google Alert - finance|||2018-10-05T15:29:00.000+03:00\n",
      "Tesla shares fall after Musk mocks SEC on Twitter|||2018-10-05T14:16:00.000+03:00\n",
      "Tesla shares fall after Musk mocks SEC on Twitter|||2018-10-05T14:16:00.000+03:00\n",
      "Tesla (TSLA) Given a $200.00 Price Target at Cowen|||2018-10-05T15:26:00.000+03:00\n",
      "Tesla shares fall after Elon Musk mocks SEC on Twitter|||2018-10-05T16:09:00.000+03:00\n",
      "Tesla shares fall after Elon Musk mocks SEC on Twitter|||2018-10-05T15:35:00.000+03:00\n"
     ]
    }
   ],
   "source": [
    "for feed in output['posts']:\n",
    "    print(str(feed['title']) + '|||' + str(feed['published']))"
   ]
  },
  {
   "cell_type": "code",
   "execution_count": 5,
   "metadata": {},
   "outputs": [
    {
     "name": "stdout",
     "output_type": "stream",
     "text": [
      "Total number of titles: 100\n"
     ]
    }
   ],
   "source": [
    "feed_titles = []\n",
    "\n",
    "for feed in output['posts']:\n",
    "    feed_titles.append(str(feed['title']))\n",
    "\n",
    "print(\"Total number of titles: \" + str(len(feed_titles)))"
   ]
  },
  {
   "cell_type": "code",
   "execution_count": 6,
   "metadata": {},
   "outputs": [],
   "source": [
    "def tokenize_titles(title):\n",
    "    tokens = nltk.word_tokenize(title)\n",
    "    lmtzr = WordNetLemmatizer()\n",
    "    filtered_tokens = []\n",
    "    \n",
    "    for token in tokens:\n",
    "        token = token.replace(\"'s\", \" \").replace(\"n’t\", \" not\").replace(\"’ve\", \" have\")\n",
    "        token = re.sub(r'[^a-zA-Z0-9 ]', '', token)\n",
    "        if token not in stopwords:\n",
    "            filtered_tokens.append(token.lower())\n",
    "    \n",
    "    lemmas = [lmtzr.lemmatize(t,'v') for t in filtered_tokens]\n",
    "\n",
    "    return lemmas"
   ]
  },
  {
   "cell_type": "code",
   "execution_count": 7,
   "metadata": {},
   "outputs": [],
   "source": [
    "def clstr_lda(num_topics, titles):\n",
    "    # top words to be identified\n",
    "    n_top_words = 10\n",
    "\n",
    "    tf_vectorizer = CountVectorizer(max_df=0.92, min_df=0.02, max_features=2000,\n",
    "                                    tokenizer=tokenize_titles, ngram_range=(4,5))\n",
    "\n",
    "    tf = tf_vectorizer.fit_transform(titles)\n",
    "\n",
    "    lda = LatentDirichletAllocation(n_components=num_topics, max_iter=1000,\n",
    "                                    learning_method='batch', learning_offset=10.,\n",
    "                                    random_state = 1)\n",
    "    lda.fit(tf)\n",
    "    tf_feature_names = tf_vectorizer.get_feature_names()\n",
    "\n",
    "    # print top topic words\n",
    "    topics = dict()\n",
    "    for topic_idx, topic in enumerate(lda.components_):\n",
    "        topics[topic_idx] = [tf_feature_names[i] for i in topic.argsort()[:-n_top_words - 1:-1]]\n",
    "        print(\"Topic #%d:\" % topic_idx)\n",
    "        print(\" | \".join([tf_feature_names[i] for i in topic.argsort()[:-n_top_words - 1:-1]]))\n",
    "        \n",
    "    return topics"
   ]
  },
  {
   "cell_type": "code",
   "execution_count": 8,
   "metadata": {},
   "outputs": [
    {
     "name": "stdout",
     "output_type": "stream",
     "text": [
      "Topic #0:\n",
      "tesla ceo elon musk |  hortseller enrichment commission  | elon musk apparently rip | rip sec deal  | ceo elon musk apparently rip | apparently rip sec deal | tesla ceo elon musk apparently | elon musk apparently rip sec | apparently rip sec deal  | ceo elon musk apparently\n",
      "Topic #1:\n",
      "swipe sec heel fraud settlement | swipe sec heel fraud | sec heel fraud settlement | musk take swipe sec heel | take swipe sec heel fraud | take swipe sec heel | musk take swipe sec | heel fraud settlement  | sec heel fraud settlement  | tesla share fall elon musk\n",
      "Topic #2:\n",
      "elon musk mock sec | musk mock sec twitter | elon musk mock sec twitter |  shortseller enrichment commission |  shortseller enrichment commission  | sec twitter   shortseller | sec twitter   | twitter   shortseller | twitter   shortseller enrichment |   shortseller enrichment commission\n",
      "Topic #3:\n",
      "musk mock us agency days | mock us agency days settle | us agency days settle | musk mock us agency | mock us agency days |   musk mock us agency | tesla   musk mock | tesla   musk mock us |   musk mock us | elon musk mock sec\n",
      "Topic #4:\n",
      "elon musk nt take sec | musk nt take sec | nt take sec seriously | musk nt take sec seriously | elon musk nt take | musk troll sec twitter | elon musk troll sec twitter | elon musk troll sec | tesla ceo elon musk | sec deal  andapos \n",
      "Topic #5:\n",
      "musk mock sec twitter | fall musk mock sec | share fall musk mock | share fall musk mock sec | fall musk mock sec twitter | tesla share fall musk mock | tesla share fall musk | boss mock us regulator | musk  tesla boss mock | mock us regulator days\n"
     ]
    }
   ],
   "source": [
    "topics = clstr_lda(6, feed_titles)"
   ]
  },
  {
   "cell_type": "code",
   "execution_count": null,
   "metadata": {},
   "outputs": [],
   "source": []
  }
 ],
 "metadata": {
  "kernelspec": {
   "display_name": "Python 3",
   "language": "python",
   "name": "python3"
  },
  "language_info": {
   "codemirror_mode": {
    "name": "ipython",
    "version": 3
   },
   "file_extension": ".py",
   "mimetype": "text/x-python",
   "name": "python",
   "nbconvert_exporter": "python",
   "pygments_lexer": "ipython3",
   "version": "3.6.5"
  }
 },
 "nbformat": 4,
 "nbformat_minor": 2
}
