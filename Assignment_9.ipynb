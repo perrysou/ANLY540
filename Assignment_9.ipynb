{
 "cells": [
  {
   "cell_type": "code",
   "execution_count": 1,
   "metadata": {},
   "outputs": [],
   "source": [
    "import webhoseio, os\n",
    "from sklearn.feature_extraction.text import CountVectorizer\n",
    "from sklearn.decomposition import LatentDirichletAllocation\n",
    "import nltk, re\n",
    "from nltk.stem.wordnet import WordNetLemmatizer\n",
    "\n",
    "stopwords = set(nltk.corpus.stopwords.words('english'))"
   ]
  },
  {
   "cell_type": "code",
   "execution_count": 2,
   "metadata": {},
   "outputs": [],
   "source": [
    "webhoseio.config(token=\"2c45808b-852d-4156-af2f-faf960992ea9\")\n",
    "query_params = {\n",
    "    \"q\": \"organization:Tesla\",\n",
    "    \"ts\": \"1523748602856\",\n",
    "    \"sort\": \"crawled\"\n",
    "}"
   ]
  },
  {
   "cell_type": "code",
   "execution_count": 3,
   "metadata": {},
   "outputs": [],
   "source": [
    "output = webhoseio.query(\"filterWebContent\", query_params)"
   ]
  },
  {
   "cell_type": "code",
   "execution_count": 4,
   "metadata": {},
   "outputs": [
    {
     "name": "stdout",
     "output_type": "stream",
     "text": [
      "Meet Elon Musk’s new boss at Tesla: Australian telecom exec Robyn Denholm|||2018-11-08T02:00:00.000+02:00\n",
      "New Tesla chairwoman's biggest challenge is controlling Musk|||2018-11-08T10:17:00.000+02:00\n",
      "New Tesla chairwoman's biggest challenge is controlling Musk|||2018-11-08T02:00:00.000+02:00\n",
      "Robyn Denholm to Replace Elon Musk as Tesla Chairman|||2018-11-08T23:21:00.000+02:00\n",
      "Samsung gives first glimpse of foldable phone|||2018-11-08T20:03:00.000+02:00\n",
      "Tesla Names Robyn Denholm as Chairman to Replace Elon Musk|||2018-11-08T19:55:00.000+02:00\n",
      "New Tesla chairwoman's biggest challenge is controlling Musk|||2018-11-08T02:00:00.000+02:00\n",
      "New Tesla chairwoman's biggest challenge is controlling Musk|||2018-11-08T10:17:00.000+02:00\n",
      "New Tesla chairwoman's biggest challenge is controlling Musk|||2018-11-09T01:08:00.000+02:00\n",
      "New Tesla chairwoman’s biggest challenge is controlling Musk|||2018-11-08T23:19:00.000+02:00\n",
      "Robyn Denholm replaces Elon Musk as Tesla chairman|||2018-11-08T22:58:00.000+02:00\n",
      "Can Tesla's new chairwoman keep Elon Musk in check?|||2018-11-09T01:14:00.000+02:00\n",
      "New Tesla chairwoman's biggest challenge is controlling Musk|||2018-11-08T23:21:00.000+02:00\n",
      "New Tesla chairwoman’s biggest challenge is controlling Musk|||2018-11-09T00:35:00.000+02:00\n",
      "Tesla has named Elon Musk's replacement as chair of its board — here's the full list of the company's directors (TSLA)|||2018-11-08T18:05:00.000+02:00\n",
      "New Tesla chairwoman's biggest challenge is controlling Musk|||2018-11-08T09:22:00.000+02:00\n",
      "New Tesla chairwoman's biggest challenge is controlling Musk - Fairfield Citizen|||2018-11-08T02:00:00.000+02:00\n",
      "New Tesla chairwoman’s biggest challenge is controlling Elon Musk|||2018-11-08T02:00:00.000+02:00\n",
      "Telstra CFO to replace Elon Musk as Chair on Tesla Board|||2018-11-09T02:08:00.000+02:00\n",
      "New Tesla chairman named after Musk's 'tweet' woes, Business|||2018-11-09T13:00:00.000+02:00\n",
      "USA AUTOMOBILES - Robyn Denholm replaces Elon Musk as head of Tesla board|||2018-11-09T01:51:00.000+02:00\n",
      "Robyn Denholm replaces Elon Musk as Tesla Chairman|||2018-11-08T13:12:00.000+02:00\n",
      "Australian Tesla chairwoman's role will mean reining in Elon Musk|||2018-11-09T02:40:00.000+02:00\n",
      "Robyn Denholm Steps Down from Telstra to Replace Elon Musk|||2018-11-09T03:35:00.000+02:00\n",
      "Robyn Denholm replaces Elon Musk as head of Tesla board|||2018-11-09T01:51:00.000+02:00\n",
      "Robyn Denholm is new Tesla Chairwoman, Musk remains CEO|||2018-11-08T02:00:00.000+02:00\n",
      "Can Tesla's new chairwoman keep Elon Musk in check?|||2018-11-09T07:25:00.000+02:00\n",
      "Telstra CFO to replace Elon Musk as Chair on Tesla Board|||2018-11-09T02:08:00.000+02:00\n",
      "New Tesla chairwoman's biggest challenge is controlling Musk|||2018-11-08T10:17:00.000+02:00\n",
      "New Tesla chairwoman's biggest challenge is controlling Musk|||2018-11-09T03:11:00.000+02:00\n",
      "It's been over a week and Wall Street still has some crucial questions about Tesla's earnings blowout (TSLA)|||2018-11-08T16:05:00.000+02:00\n",
      "Tesla Names A New Chairman To Replace Elon Musk|||2018-11-09T05:30:00.000+02:00\n",
      "New Tesla chairwoman's biggest challenge is controlling Musk|||2018-11-09T02:00:00.000+02:00\n",
      "New Tesla chairwoman's biggest challenge is controlling Musk|||2018-11-09T02:00:00.000+02:00\n",
      "New Tesla chairwoman's biggest challenge is controlling Musk - Connecticut Post|||2018-11-08T02:00:00.000+02:00\n",
      "Tesla Replaces Elon Musk as Chair|||2018-11-09T01:00:00.000+02:00\n",
      "Tesla Names Robyn Denholm as Chairman to Replace Elon Musk|||2018-11-08T02:00:00.000+02:00\n",
      "Tesla replaces Elon Musk as board chair with Telstra CFO Robyn Denholm|||2018-11-09T06:29:00.000+02:00\n",
      "New Tesla chairwoman's biggest challenge is controlling Musk|||2018-11-08T10:17:00.000+02:00\n",
      "New Tesla chairwoman's biggest challenge is controlling Musk|||2018-11-08T11:23:00.000+02:00\n",
      "New Tesla chairwoman's biggest challenge is controlling Musk|||2018-11-09T06:17:00.000+02:00\n",
      "New Tesla Chairwoman's Biggest Challenge Is Controlling Musk|||2018-11-09T07:23:00.000+02:00\n",
      "elon musk: New Tesla chairwoman's biggest challenge is controlling Musk - Times of India|||2018-11-09T02:00:00.000+02:00\n",
      "Australian Robyn Denholm announced as Tesla’s new chair|||2018-11-09T01:04:00.000+02:00\n",
      "Tesla Names New Chair As Elon Musk Steps Down|||2018-11-08T13:09:00.000+02:00\n",
      "Tesla names director Robyn Denholm to replace Musk as board chairman after turbulent ride|||2018-11-09T04:17:00.000+02:00\n",
      "New Tesla chairwoman's biggest challenge is controlling Musk - StamfordAdvocate|||2018-11-08T02:00:00.000+02:00\n",
      "Robyn Denholm is new Tesla Chairwoman, Musk remains CEO|||2018-11-08T15:44:00.000+02:00\n",
      "Plans for electric vehicle battery production in Europe|||2018-11-09T02:00:00.000+02:00\n",
      "Factbox - Plans for electric vehicle battery production in Europe|||2018-11-09T02:00:00.000+02:00\n",
      "Plans for electric vehicle battery production in Europe|||2018-11-09T09:00:00.000+02:00\n",
      "New Tesla chairwoman's biggest challenge is controlling Musk - Midland Reporter-Telegram|||2018-11-08T02:00:00.000+02:00\n",
      "Tesla appoints Robyn Denholm as new Chairman|||2018-11-09T06:57:00.000+02:00\n",
      "Tesla names director Robyn Denholm to replace Musk as board chairman after turbulent ride|||2018-11-09T04:17:00.000+02:00\n",
      "Telstra CFO to replace Elon Musk as Chair on Tesla Board|||2018-11-09T02:08:00.000+02:00\n",
      "Robyn Denholm seen as right person to tame Elon Musk|||2018-11-09T09:34:00.000+02:00\n",
      "New Tesla chairwoman's biggest challenge is controlling Musk|||2018-11-08T23:07:00.000+02:00\n",
      "Plans for electric vehicle battery production in Europe|||2018-11-09T09:12:00.000+02:00\n",
      "Factbox - Plans for electric vehicle battery production in Europe|||2018-11-09T09:05:00.000+02:00\n",
      "Robyn Denholm seen as right person to tame Elon Musk|||2018-11-09T09:34:00.000+02:00\n",
      "Robyn Denholm takes on challenge of taming Elon Musk|||2018-11-09T09:34:00.000+02:00\n",
      "Robyn Denholm seen as right person to tame Elon Musk|||2018-11-09T09:34:00.000+02:00\n",
      "New Tesla chairwoman's biggest challenge is controlling Musk|||2018-11-09T10:38:00.000+02:00\n",
      "Robyn Denholm takes on challenge of taming Elon Musk|||2018-11-09T09:34:00.000+02:00\n",
      "Robyn Denholm takes on challenge of taming Elon Musk|||2018-11-09T09:34:00.000+02:00\n",
      "Robyn Denholm seen as right person to tame Elon Musk|||2018-11-09T09:34:00.000+02:00\n",
      "Brooklyn entrepreneurs bring fresh produce to city retailers|||2018-11-09T04:20:00.000+02:00\n",
      "Tesla (TSLA) Rating Reiterated by Piper Jaffray Companies|||2018-11-09T10:25:00.000+02:00\n",
      "New Tesla chairwoman's biggest challenge is controlling Musk|||2018-11-08T11:17:00.000+02:00\n",
      "Tesla chair: Elon Musk replaced by Telstra executive Robyn Denholm|||2018-11-08T15:28:00.000+02:00\n",
      "Robyn Denholm takes on challenge of taming Elon Musk|||2018-11-09T09:34:00.000+02:00\n",
      "New Tesla chairwoman's biggest challenge is controlling Musk - Westport News|||2018-11-08T02:00:00.000+02:00\n",
      "Tesla chair: Elon Musk replaced by Telstra executive Robyn Denholm|||2018-11-09T02:28:00.000+02:00\n",
      "Autonomous and Electric Vehicles Disrupts the Transportation and Logistic Industries - techutzpah|||2018-11-09T02:00:00.000+02:00\n",
      "New Tesla chairwoman's biggest challenge is controlling Musk|||2018-11-09T01:19:00.000+02:00\n",
      "Elon Musk gets new boss at Tesla|||2018-11-09T01:18:00.000+02:00\n",
      "VW plans to sell electric Tesla rival for less than US$23,000, says source|||2018-11-09T05:23:00.000+02:00\n",
      "New Tesla chairwoman's biggest challenge is controlling Musk|||2018-11-09T01:37:00.000+02:00\n",
      "Elon Musk's Tesla reaches farthest point from sun|||2018-11-09T13:13:00.000+02:00\n",
      "Elon Musk's Tesla reaches farthest point from sun|||2018-11-09T13:13:00.000+02:00\n",
      "Google changes harassment policies, Tesla gets new chairperson - Video|||2018-11-09T14:05:00.000+02:00\n",
      "loobobilly News: Tesla Names New Chair As Robyn Denholm, Elon Musk Steps Down|||2018-11-08T13:10:00.000+02:00\n",
      "Tesla is rallying after naming Elon Musk's replacement as board chair (TSLA)|||2018-11-09T06:17:00.000+02:00\n",
      "VW said to plan Tesla rivals for less than $23,000, share van production with Ford|||2018-11-09T02:00:00.000+02:00\n",
      "Elon Musk's Tesla reaches farthest point from sun|||2018-11-09T13:13:00.000+02:00\n",
      "Tesla shares rise as car maker names Telstra CFO as new company Chairman|||2018-11-08T14:01:00.000+02:00\n",
      "Tesla (TSLA) Upgraded to “C” at TheStreet|||2018-11-09T14:36:00.000+02:00\n",
      "My sets|||2018-11-09T02:00:00.000+02:00\n",
      "|||2018-11-09T15:23:00.000+02:00\n",
      "Elon Musk's Tesla reaches farthest point from sun|||2018-11-09T13:13:00.000+02:00\n",
      "Former Tesla employee allegedly embezzled millions | Fox Business|||2018-11-09T02:00:00.000+02:00\n",
      "TeslaCoilCoin (TESLA) Tops 24 Hour Trading Volume of $3,708.00|||2018-11-09T15:38:00.000+02:00\n",
      "Telstra : executive Robyn Denholm quits to be Tesla chairman|||2018-11-09T02:00:00.000+02:00\n",
      "Tesla : names board director to replace Musk amid controversy|||2018-11-09T02:00:00.000+02:00\n",
      "Tesla, Inc. (NASDAQ:TSLA) Robyn Denholm newly appointed chairwoman|||2018-11-09T14:00:00.000+02:00\n",
      "How the new Tesla chairman Robyn Denholm thinks about leadership and risk-taking|||2018-11-09T15:45:00.000+02:00\n",
      "TeslaCoilCoin (TESLA) Tops 24 Hour Trading Volume of $3,708.00|||2018-11-09T15:38:00.000+02:00\n",
      "How the new Tesla chairman Robyn Denholm thinks about leadership|||2018-11-09T02:00:00.000+02:00\n",
      "New Tesla chairwoman's biggest challenge is controlling Musk|||2018-11-09T15:08:00.000+02:00\n",
      "Tesla Names New Chair As Elon Musk Steps Down | 89.3 KPCC|||2018-11-08T02:00:00.000+02:00\n"
     ]
    }
   ],
   "source": [
    "for feed in output['posts']:\n",
    "    print(str(feed['title']) + '|||' + str(feed['published']))"
   ]
  },
  {
   "cell_type": "code",
   "execution_count": 5,
   "metadata": {},
   "outputs": [
    {
     "name": "stdout",
     "output_type": "stream",
     "text": [
      "Total number of titles: 100\n"
     ]
    }
   ],
   "source": [
    "feed_titles = []\n",
    "\n",
    "for feed in output['posts']:\n",
    "    feed_titles.append(str(feed['title']))\n",
    "\n",
    "print(\"Total number of titles: \" + str(len(feed_titles)))"
   ]
  },
  {
   "cell_type": "code",
   "execution_count": 6,
   "metadata": {},
   "outputs": [],
   "source": [
    "def tokenize_titles(title):\n",
    "    tokens = nltk.word_tokenize(title)\n",
    "    lmtzr = WordNetLemmatizer()\n",
    "    filtered_tokens = []\n",
    "    \n",
    "    for token in tokens:\n",
    "        token = token.replace(\"'s\", \" \").replace(\"n’t\", \" not\").replace(\"’ve\", \" have\")\n",
    "        token = re.sub(r'[^a-zA-Z0-9 ]', '', token)\n",
    "        if token not in stopwords:\n",
    "            filtered_tokens.append(token.lower())\n",
    "    \n",
    "    lemmas = [lmtzr.lemmatize(t,'v') for t in filtered_tokens]\n",
    "\n",
    "    return lemmas"
   ]
  },
  {
   "cell_type": "code",
   "execution_count": 7,
   "metadata": {},
   "outputs": [],
   "source": [
    "def clstr_lda(num_topics, titles):\n",
    "    # top words to be identified\n",
    "    n_top_words = 10\n",
    "\n",
    "    tf_vectorizer = CountVectorizer(max_df=0.92, min_df=0.02, max_features=2000,\n",
    "                                    tokenizer=tokenize_titles, ngram_range=(4,5))\n",
    "\n",
    "    tf = tf_vectorizer.fit_transform(titles)\n",
    "\n",
    "    lda = LatentDirichletAllocation(n_components=num_topics, max_iter=1000,\n",
    "                                    learning_method='batch', learning_offset=10.,\n",
    "                                    random_state = 1)\n",
    "    lda.fit(tf)\n",
    "    tf_feature_names = tf_vectorizer.get_feature_names()\n",
    "\n",
    "    # print top topic words\n",
    "    topics = dict()\n",
    "    for topic_idx, topic in enumerate(lda.components_):\n",
    "        topics[topic_idx] = [tf_feature_names[i] for i in topic.argsort()[:-n_top_words - 1:-1]]\n",
    "        print(\"Topic #%d:\" % topic_idx)\n",
    "        print(\" | \".join([tf_feature_names[i] for i in topic.argsort()[:-n_top_words - 1:-1]]))\n",
    "        \n",
    "    return topics"
   ]
  },
  {
   "cell_type": "code",
   "execution_count": 10,
   "metadata": {},
   "outputs": [
    {
     "name": "stdout",
     "output_type": "stream",
     "text": [
      "Topic #0:\n",
      "robyn denholm replace elon musk | denholm replace elon musk | robyn denholm replace elon | new tesla chairwoman  |  biggest challenge control | new tesla chairwoman  biggest | tesla chairwoman  biggest challenge | chairwoman  biggest challenge control | chairwoman  biggest challenge | tesla chairwoman  biggest\n",
      "Topic #1:\n",
      "vehicle battery production europe | plan electric vehicle battery | electric vehicle battery production | plan electric vehicle battery production | electric vehicle battery production europe | musk   tesla reach | elon musk   tesla reach | musk   tesla reach farthest |   tesla reach farthest | reach farthest point sun\n",
      "Topic #2:\n",
      "denholm take challenge tame elon | take challenge tame elon musk | take challenge tame elon | denholm take challenge tame | robyn denholm take challenge tame | challenge tame elon musk | robyn denholm take challenge | name director robyn denholm | tesla name director robyn denholm | denholm replace musk board chairman\n",
      "Topic #3:\n",
      "replace elon musk chair | telstra cfo replace elon musk | replace elon musk chair tesla | elon musk chair tesla board | elon musk chair tesla | cfo replace elon musk | cfo replace elon musk chair | telstra cfo replace elon | musk chair tesla board | chairman replace elon musk\n",
      "Topic #4:\n",
      "biggest challenge control musk |   biggest challenge control | tesla chairwoman   biggest challenge |   biggest challenge control musk | new tesla chairwoman   biggest | new tesla chairwoman   | chairwoman   biggest challenge | chairwoman   biggest challenge control | tesla chairwoman   biggest | biggest challenge control musk \n",
      "Topic #5:\n",
      "person tame elon musk | robyn denholm see right | right person tame elon musk | see right person tame elon | denholm see right person tame | denholm see right person | right person tame elon | see right person tame | robyn denholm see right person | tesla name new chair\n"
     ]
    }
   ],
   "source": [
    "topics = clstr_lda(6, feed_titles)"
   ]
  },
  {
   "cell_type": "code",
   "execution_count": null,
   "metadata": {},
   "outputs": [],
   "source": []
  }
 ],
 "metadata": {
  "kernelspec": {
   "display_name": "Python 3",
   "language": "python",
   "name": "python3"
  },
  "language_info": {
   "codemirror_mode": {
    "name": "ipython",
    "version": 3
   },
   "file_extension": ".py",
   "mimetype": "text/x-python",
   "name": "python",
   "nbconvert_exporter": "python",
   "pygments_lexer": "ipython3",
   "version": "3.7.1"
  }
 },
 "nbformat": 4,
 "nbformat_minor": 2
}
