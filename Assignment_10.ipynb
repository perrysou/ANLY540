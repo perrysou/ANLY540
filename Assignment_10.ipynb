{
 "cells": [
  {
   "cell_type": "code",
   "execution_count": 1,
   "metadata": {},
   "outputs": [],
   "source": [
    "#!pip install -U spacy --user\n",
    "#!pip install -U https://github.com/explosion/spacy-models/releases/download/en_core_web_sm-2.0.0/en_core_web_sm-2.0.0.tar.gz --user\n",
    "#!python -m spacy download en_core_web_sm"
   ]
  },
  {
   "cell_type": "code",
   "execution_count": 2,
   "metadata": {},
   "outputs": [],
   "source": [
    "from nltk.stem.wordnet import WordNetLemmatizer\n",
    "import spacy\n",
    "import en_core_web_sm"
   ]
  },
  {
   "cell_type": "code",
   "execution_count": 3,
   "metadata": {},
   "outputs": [],
   "source": [
    "nlp = en_core_web_sm.load()"
   ]
  },
  {
   "cell_type": "code",
   "execution_count": 4,
   "metadata": {},
   "outputs": [],
   "source": [
    "SUBJECTS = [\"nsubj\", \"nsubjpass\", \"csubj\", \"csubjpass\", \"agent\", \"expl\"]\n",
    "OBJECTS = [\"dobj\", \"dative\", \"attr\", \"oprd\"] "
   ]
  },
  {
   "cell_type": "code",
   "execution_count": 5,
   "metadata": {},
   "outputs": [],
   "source": [
    "import json\n",
    "json_data = open(\"./anly540_apple.json\").readlines()\n",
    "feeds_read_from_file = []\n",
    "for line in json_data:\n",
    "    feeds_read_from_file.append(json.loads(line))"
   ]
  },
  {
   "cell_type": "code",
   "execution_count": 6,
   "metadata": {},
   "outputs": [
    {
     "data": {
      "text/plain": [
       "'{\"thread\": {\"uuid\": \"2587a9af973a7900eef166282577cea4e7f32b65\", \"url\": \"http://omgili.com/ri/.wHSUbtEfZQTKtctguhP2.h4YK4R6rP141R4tpsKCfOicasVzd5vyEtWnTr19ghA8zw8ETsgsbUTihYjrtq.A6.af1dMhyuDM_HMLhb4vmptEAxXW5omzAGS7WLS9MO_4tzIfBZ9Khk-\", \"site_full\": \"wuzzuf.net\", \"site\": \"wuzzuf.net\", \"site_section\": \"http://wuzzuf.net/feeds/all-jobs.xml\", \"site_categories\": [\"job_search\", \"jobs\"], \"section_title\": \"Wuzzuf All Jobs\", \"title\": \"Web Developer Intern - Bahrain\", \"title_full\": \"Web Developer Intern - Bahrain\", \"published\": \"2018-10-04T03:40:00.000+03:00\", \"replies_count\": 0, \"participants_count\": 0, \"site_type\": \"blogs\", \"country\": \"IE\", \"spam_score\": 0.0, \"main_image\": \"https://s3-eu-west-1.amazonaws.com/wuzzuf/files/company_logo/AIESEC--MANSOURA-Egypt-31084-1522674809-og.png\", \"performance_score\": 0, \"domain_rank\": 15090, \"social\": {\"facebook\": {\"likes\": 0, \"comments\": 0, \"shares\": 0}, \"gplus\": {\"shares\": 0}, \"pinterest\": {\"shares\": 0}, \"linkedin\": {\"shares\": 0}, \"stumbledupon\": {\"shares\": 0}, \"vk\": {\"shares\": 0}}}, \"uuid\": \"2587a9af973a7900eef166282577cea4e7f32b65\", \"url\": \"http://omgili.com/ri/.wHSUbtEfZQTKtctguhP2.h4YK4R6rP141R4tpsKCfOicasVzd5vyEtWnTr19ghA8zw8ETsgsbUTihYjrtq.A6.af1dMhyuDM_HMLhb4vmptEAxXW5omzAGS7WLS9MO_4tzIfBZ9Khk-\", \"ord_in_thread\": 0, \"author\": \"\", \"published\": \"2018-10-04T03:40:00.000+03:00\", \"title\": \"Web Developer Intern - Bahrain\", \"text\": \"Going through the process of website developing from the concept of ideation to delivery. Coding and modifying websites, from layout to function and according to client\\'s specifications. Create visually appealing sites that feature user-friendly design and clear navigation. Produce fully functional programs writing clean, testable code. Work on designing, coding building apps for Google\\'s Android, Apple\\'s iOS. Have some background for popular CMS such as Wordpress.\\\\nThe intern will learn: A new work culture and environment will test your skills to be solution-oriented and adaptable to overcome challenges and uncertainty. Exposure to a different country will open up awareness of global issues and empower you to become more of a world citizen. Working abroad will allow you to find your values, explore your passions, and become more self-aware.\\\\nApplication Deadline : after 20 days\\\\nInternship Start date : 1st Feb\\\\nDuration : 12 weeks\", \"highlightText\": \"\", \"highlightTitle\": \"\", \"language\": \"english\", \"external_links\": [\"http://www.facebook.com/2008/fbml\"], \"entities\": {\"persons\": [], \"organizations\": [{\"name\": \"google\", \"sentiment\": \"none\"}, {\"name\": \"apple\", \"sentiment\": \"none\"}, {\"name\": \"cms\", \"sentiment\": \"none\"}], \"locations\": [{\"name\": \"bahrain\", \"sentiment\": \"none\"}]}, \"rating\": null, \"crawled\": \"2018-10-04T22:13:14.028+03:00\"}\\n'"
      ]
     },
     "execution_count": 6,
     "metadata": {},
     "output_type": "execute_result"
    }
   ],
   "source": [
    "json_data[2]"
   ]
  },
  {
   "cell_type": "code",
   "execution_count": 7,
   "metadata": {},
   "outputs": [],
   "source": [
    "feeds_read_from_file = []\n",
    "for line in json_data:\n",
    "    feeds_read_from_file.append(json.loads(line))"
   ]
  },
  {
   "cell_type": "code",
   "execution_count": 8,
   "metadata": {},
   "outputs": [
    {
     "name": "stdout",
     "output_type": "stream",
     "text": [
      "Nintendo is planning an update to the Switch, according to new reports.The new console is likely to arrive next year, the Wall Street Journal said. But beyond that details remain murky.The Switch was first released in March of last year. The new update is being planned for the second half 2019 and could come as soon as the summer, according to the WSJ.It isn't clear what updates the new version of the console would bring. But chief among them is likely to be a new screen: the first Switch, while broadly praised, drew some criticism for the quality of the display.Nintendo is said to be avoiding the OLED technology that is used in Apple's new iPhones and which can give improved performance and rich blacks. But it could improve to the more detailed LCD screens on other recent handsets.That uncertainly might partly be because Nintendo itself isn't exactly clear what the new console might look like.If it does arrive, it's likely that it will follow the lead of recent new consoles like the PS4 Pro and Xbox One X – adding new features and improving specs, while staying on the same generation and allowing players to bring games and friends over. Nintendo has already done that in the past, repeatedly updating the Nintendo 3DS after it was first released.\n"
     ]
    }
   ],
   "source": [
    "for feed in feeds_read_from_file[3:4]:\n",
    "    selected_feed = feed['text']\n",
    "    print(selected_feed)            "
   ]
  },
  {
   "cell_type": "code",
   "execution_count": 9,
   "metadata": {},
   "outputs": [
    {
     "name": "stdout",
     "output_type": "stream",
     "text": [
      "Nintendo is planning an update to the Switch, according to new reports.The new console is likely to arrive next year, the Wall Street Journal said.\n",
      "But beyond that details remain murky.The Switch was first released in March of last year.\n",
      "The new update is being planned for the second half 2019 and could come as soon as the summer, according to the WSJ.It isn't clear what updates the new version of the console would bring.\n",
      "But chief among them is likely to be a new screen: the first Switch, while broadly praised, drew some criticism for the quality of the display.Nintendo is said to be avoiding the OLED technology that is used in Apple's new iPhones and which can give improved performance and rich blacks.\n",
      "But it could improve to the more detailed LCD screens on other recent handsets.That uncertainly might partly be because Nintendo itself isn't exactly clear what the new console might look like.If it does arrive, it's likely that it will follow the lead of recent new consoles like the PS4 Pro and Xbox One X – adding new features and improving specs, while staying on the same generation and allowing players to bring games and friends over.\n",
      "Nintendo has already done that in the past, repeatedly updating the Nintendo 3DS after it was first released.\n"
     ]
    }
   ],
   "source": [
    "import re\n",
    "from nltk import word_tokenize, sent_tokenize, ngrams\n",
    "sentences = sent_tokenize(selected_feed)\n",
    "for sentence in sentences:\n",
    "    print(sentence)"
   ]
  },
  {
   "cell_type": "code",
   "execution_count": 10,
   "metadata": {},
   "outputs": [],
   "source": [
    "def getSubsFromConjunctions(subs):\n",
    "    moreSubs = []\n",
    "    for sub in subs:\n",
    "        # rights is a generator\n",
    "        rights = list(sub.rights)\n",
    "        rightDeps = {tok.lower_ for tok in rights}\n",
    "        if \"and\" in rightDeps:\n",
    "            moreSubs.extend([tok for tok in rights if tok.dep_ in SUBJECTS or tok.pos_ == \"NOUN\"])\n",
    "            if len(moreSubs) > 0:\n",
    "                moreSubs.extend(getSubsFromConjunctions(moreSubs))\n",
    "    return moreSubs"
   ]
  },
  {
   "cell_type": "code",
   "execution_count": 11,
   "metadata": {},
   "outputs": [],
   "source": [
    "def getObjsFromConjunctions(objs):\n",
    "    moreObjs = []\n",
    "    for obj in objs:\n",
    "        # rights is a generator\n",
    "        rights = list(obj.rights)\n",
    "        rightDeps = {tok.lower_ for tok in rights}\n",
    "        if \"and\" in rightDeps:\n",
    "            moreObjs.extend([tok for tok in rights if tok.dep_ in OBJECTS or tok.pos_ == \"NOUN\"])\n",
    "            if len(moreObjs) > 0:\n",
    "                moreObjs.extend(getObjsFromConjunctions(moreObjs))\n",
    "    return moreObjs"
   ]
  },
  {
   "cell_type": "code",
   "execution_count": 12,
   "metadata": {},
   "outputs": [],
   "source": [
    "def getVerbsFromConjunctions(verbs):\n",
    "    moreVerbs = []\n",
    "    for verb in verbs:\n",
    "        rightDeps = {tok.lower_ for tok in verb.rights}\n",
    "        if \"and\" in rightDeps:\n",
    "            moreVerbs.extend([tok for tok in verb.rights if tok.pos_ == \"VERB\"])\n",
    "            if len(moreVerbs) > 0:\n",
    "                moreVerbs.extend(getVerbsFromConjunctions(moreVerbs))\n",
    "    return moreVerbs"
   ]
  },
  {
   "cell_type": "code",
   "execution_count": 13,
   "metadata": {},
   "outputs": [],
   "source": [
    "def findSubs(tok):\n",
    "    head = tok.head\n",
    "    while head.pos_ != \"VERB\" and head.pos_ != \"NOUN\" and head.head != head:\n",
    "        head = head.head\n",
    "    if head.pos_ == \"VERB\":\n",
    "        subs = [tok for tok in head.lefts if tok.dep_ == \"SUB\"]\n",
    "        if len(subs) > 0:\n",
    "            verbNegated = isNegated(head)\n",
    "            subs.extend(getSubsFromConjunctions(subs))\n",
    "            return subs, verbNegated\n",
    "        elif head.head != head:\n",
    "            return findSubs(head)\n",
    "    elif head.pos_ == \"NOUN\":\n",
    "        return [head], isNegated(tok)\n",
    "    return [], False"
   ]
  },
  {
   "cell_type": "code",
   "execution_count": 14,
   "metadata": {},
   "outputs": [],
   "source": [
    "def isNegated(tok):\n",
    "    negations = {\"no\", \"not\", \"n't\", \"never\", \"none\"}\n",
    "    for dep in list(tok.lefts) + list(tok.rights):\n",
    "        if dep.lower_ in negations:\n",
    "            return True\n",
    "    return False"
   ]
  },
  {
   "cell_type": "code",
   "execution_count": 15,
   "metadata": {},
   "outputs": [],
   "source": [
    "def findSVs(tokens):\n",
    "    svs = []\n",
    "    verbs = [tok for tok in tokens if tok.pos_ == \"VERB\"]\n",
    "    for v in verbs:\n",
    "        subs, verbNegated = getAllSubs(v)\n",
    "        if len(subs) > 0:\n",
    "            for sub in subs:\n",
    "                svs.append((sub.orth_, \"!\" + v.orth_ if verbNegated else v.orth_))\n",
    "    return svs"
   ]
  },
  {
   "cell_type": "code",
   "execution_count": 16,
   "metadata": {},
   "outputs": [],
   "source": [
    "def getObjsFromPrepositions(deps):\n",
    "    objs = []\n",
    "    for dep in deps:\n",
    "        if dep.pos_ == \"ADP\" and dep.dep_ == \"prep\":\n",
    "            objs.extend([tok for tok in dep.rights if tok.dep_  in OBJECTS or (tok.pos_ == \"PRON\" and tok.lower_ == \"me\")])\n",
    "    return objs"
   ]
  },
  {
   "cell_type": "code",
   "execution_count": 17,
   "metadata": {},
   "outputs": [],
   "source": [
    "def getObjsFromAttrs(deps):\n",
    "    for dep in deps:\n",
    "        if dep.pos_ == \"NOUN\" and dep.dep_ == \"attr\":\n",
    "            verbs = [tok for tok in dep.rights if tok.pos_ == \"VERB\"]\n",
    "            if len(verbs) > 0:\n",
    "                for v in verbs:\n",
    "                    rights = list(v.rights)\n",
    "                    objs = [tok for tok in rights if tok.dep_ in OBJECTS]\n",
    "                    objs.extend(getObjsFromPrepositions(rights))\n",
    "                    if len(objs) > 0:\n",
    "                        return v, objs\n",
    "    return None, None"
   ]
  },
  {
   "cell_type": "code",
   "execution_count": 18,
   "metadata": {},
   "outputs": [],
   "source": [
    "def getObjFromXComp(deps):\n",
    "    for dep in deps:\n",
    "        if dep.pos_ == \"VERB\" and dep.dep_ == \"xcomp\":\n",
    "            v = dep\n",
    "            rights = list(v.rights)\n",
    "            objs = [tok for tok in rights if tok.dep_ in OBJECTS]\n",
    "            objs.extend(getObjsFromPrepositions(rights))\n",
    "            if len(objs) > 0:\n",
    "                return v, objs\n",
    "    return None, None"
   ]
  },
  {
   "cell_type": "code",
   "execution_count": 19,
   "metadata": {},
   "outputs": [],
   "source": [
    "def getAllSubs(v):\n",
    "    verbNegated = isNegated(v)\n",
    "    subs = [tok for tok in v.lefts if tok.dep_ in SUBJECTS and tok.pos_ != \"DET\"]\n",
    "    if len(subs) > 0:\n",
    "        subs.extend(getSubsFromConjunctions(subs))\n",
    "    else:\n",
    "        foundSubs, verbNegated = findSubs(v)\n",
    "        subs.extend(foundSubs)\n",
    "    return subs, verbNegated"
   ]
  },
  {
   "cell_type": "code",
   "execution_count": 20,
   "metadata": {},
   "outputs": [],
   "source": [
    "def getAllObjs(v):\n",
    "    # rights is a generator\n",
    "    rights = list(v.rights)\n",
    "    objs = [tok for tok in rights if tok.dep_ in OBJECTS]\n",
    "    objs.extend(getObjsFromPrepositions(rights))\n",
    "\n",
    "    #potentialNewVerb, potentialNewObjs = getObjsFromAttrs(rights)\n",
    "    #if potentialNewVerb is not None and potentialNewObjs is not None and len(potentialNewObjs) > 0:\n",
    "    #    objs.extend(potentialNewObjs)\n",
    "    #    v = potentialNewVerb\n",
    "\n",
    "    potentialNewVerb, potentialNewObjs = getObjFromXComp(rights)\n",
    "    if potentialNewVerb is not None and potentialNewObjs is not None and len(potentialNewObjs) > 0:\n",
    "        objs.extend(potentialNewObjs)\n",
    "        v = potentialNewVerb\n",
    "    if len(objs) > 0:\n",
    "        objs.extend(getObjsFromConjunctions(objs))\n",
    "    return v, objs"
   ]
  },
  {
   "cell_type": "code",
   "execution_count": 21,
   "metadata": {},
   "outputs": [],
   "source": [
    "def findSVOs(tokens):\n",
    "    svos = []\n",
    "    verbs = [tok for tok in tokens if tok.pos_ == \"VERB\" and tok.dep_ != \"aux\"]\n",
    "    for v in verbs:\n",
    "        subs, verbNegated = getAllSubs(v)\n",
    "        # hopefully there are subs, if not, don't examine this verb any longer\n",
    "        if len(subs) > 0:\n",
    "            v, objs = getAllObjs(v)\n",
    "            for sub in subs:\n",
    "                for obj in objs:\n",
    "                    objNegated = isNegated(obj)\n",
    "                    svos.append((sub.lower_, \"!\" + v.lower_ if verbNegated or objNegated else v.lower_, obj.lower_))\n",
    "    return svos"
   ]
  },
  {
   "cell_type": "code",
   "execution_count": 22,
   "metadata": {},
   "outputs": [],
   "source": [
    "def getAbuserOntoVictimSVOs(tokens):\n",
    "    maleAbuser = {'he', 'boyfriend', 'bf', 'father', 'dad', 'husband', 'brother', 'man'}\n",
    "    femaleAbuser = {'she', 'girlfriend', 'gf', 'mother', 'mom', 'wife', 'sister', 'woman'}\n",
    "    neutralAbuser = {'pastor', 'abuser', 'offender', 'ex', 'x', 'lover', 'church', 'they'}\n",
    "    victim = {'me', 'sister', 'brother', 'child', 'kid', 'baby', 'friend', 'her', 'him', 'man', 'woman'}\n",
    "\n",
    "    svos = findSVOs(tokens)\n",
    "    wnl = WordNetLemmatizer()\n",
    "    passed = []\n",
    "    for s, v, o in svos:\n",
    "        s = wnl.lemmatize(s)\n",
    "        v = \"!\" + wnl.lemmatize(v[1:], 'v') if v[0] == \"!\" else wnl.lemmatize(v, 'v')\n",
    "        o = \"!\" + wnl.lemmatize(o[1:]) if o[0] == \"!\" else wnl.lemmatize(o)\n",
    "        if s in maleAbuser.union(femaleAbuser).union(neutralAbuser) and o in victim:\n",
    "            passed.append((s, v, o))\n",
    "    return passed"
   ]
  },
  {
   "cell_type": "code",
   "execution_count": 23,
   "metadata": {},
   "outputs": [],
   "source": [
    "def printDeps(toks):\n",
    "    for tok in toks:\n",
    "        print(tok.orth_, tok.dep_, tok.pos_, tok.head.orth_, [t.orth_ for t in tok.lefts], [t.orth_ for t in tok.rights])\n",
    "\n",
    "def testSVOs():\n",
    "    #nlp = English()\n",
    "    for sentence in sentences:\n",
    "        tok = nlp(sentence)\n",
    "        svos = findSVOs(tok)\n",
    "    #     printDeps(tok)\n",
    "    #    assert set(svos) == {('i', '!have', 'assistance'), ('he', '!provide', 'support')}\n",
    "        if svos:\n",
    "            for svo in svos:\n",
    "                print('S:{0}, V:{1}, O:{2}'.format((svo[0]), svo[1], svo[2]))\n",
    "        else:\n",
    "            print('No SVO')"
   ]
  },
  {
   "cell_type": "code",
   "execution_count": 24,
   "metadata": {},
   "outputs": [
    {
     "name": "stdout",
     "output_type": "stream",
     "text": [
      "S:nintendo, V:planning, O:update\n",
      "No SVO\n",
      "S:what, V:updates, O:version\n",
      "S:nintendo, V:avoiding, O:technology\n",
      "S:which, V:give, O:performance\n",
      "S:which, V:give, O:blacks\n",
      "S:it, V:follow, O:lead\n",
      "S:players, V:bring, O:games\n",
      "S:players, V:bring, O:friends\n",
      "S:nintendo, V:done, O:that\n"
     ]
    }
   ],
   "source": [
    "if __name__ == \"__main__\":\n",
    "    testSVOs()"
   ]
  }
 ],
 "metadata": {
  "kernelspec": {
   "display_name": "Python 3",
   "language": "python",
   "name": "python3"
  },
  "language_info": {
   "codemirror_mode": {
    "name": "ipython",
    "version": 3
   },
   "file_extension": ".py",
   "mimetype": "text/x-python",
   "name": "python",
   "nbconvert_exporter": "python",
   "pygments_lexer": "ipython3",
   "version": "3.7.1"
  }
 },
 "nbformat": 4,
 "nbformat_minor": 2
}
